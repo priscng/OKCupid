{
 "cells": [
  {
   "cell_type": "markdown",
   "metadata": {},
   "source": [
    "# OKCupid Date-A-Scientist"
   ]
  },
  {
   "cell_type": "markdown",
   "metadata": {},
   "source": [
    "## Introduction"
   ]
  },
  {
   "cell_type": "markdown",
   "metadata": {},
   "source": [
    "Dating apps have become increasingly popular in recent years for finding love. A number of these apps make use of data science techniques to recommend possible matches to users and to optimize the user experience. Through these apps, we can gain access to a wealth of information about how people experience romance differently.\n",
    "\n",
    "OKCupid is a dating app developed by Dating Agency that focuses on using multiple choice and short answers to match users. As a data scientist in Dating Agency, the goal of this project is uncover insights from the dataset and build a model with an ROC AUC score > 0.90 to predict whether an OKCupid user drinks or smokes or uses drug.\n",
    "\n",
    "**Data sources:**\n",
    "The dataset `profiles.csv` is provided by Codecademy.com."
   ]
  },
  {
   "cell_type": "markdown",
   "metadata": {},
   "source": [
    "## Import Python modules"
   ]
  },
  {
   "cell_type": "code",
   "execution_count": 1,
   "metadata": {
    "ExecuteTime": {
     "end_time": "2022-07-26T14:15:21.964426Z",
     "start_time": "2022-07-26T14:15:19.123036Z"
    }
   },
   "outputs": [],
   "source": [
    "# General libraries\n",
    "import numpy as np\n",
    "import pandas as pd\n",
    "\n",
    "# For plotting\n",
    "from matplotlib import pyplot as plt\n",
    "import seaborn as sns\n",
    "import plotly.express as px\n",
    "\n",
    "# For modeling\n",
    "from imblearn.over_sampling import SMOTE\n",
    "from sklearn.preprocessing import StandardScaler\n",
    "from sklearn.model_selection import train_test_split\n",
    "from sklearn.linear_model import LogisticRegression\n",
    "from sklearn.ensemble import RandomForestClassifier\n",
    "\n",
    "# For metrics\n",
    "from sklearn.metrics import accuracy_score, f1_score, precision_score, recall_score, classification_report\n",
    "from sklearn.metrics import roc_auc_score\n",
    "\n",
    "pd.set_option('display.max_colwidth', None)\n",
    "pd.set_option('display.max_rows', None)\n",
    "\n",
    "#import warnings\n",
    "#warnings.filterwarnings('ignore')"
   ]
  },
  {
   "cell_type": "markdown",
   "metadata": {},
   "source": [
    "## Load dataset"
   ]
  },
  {
   "cell_type": "code",
   "execution_count": 2,
   "metadata": {
    "ExecuteTime": {
     "end_time": "2022-07-26T14:15:23.586810Z",
     "start_time": "2022-07-26T14:15:21.966429Z"
    }
   },
   "outputs": [],
   "source": [
    "# Read the profiles csv file\n",
    "profiles_df = pd.read_csv('./datasets/profiles.csv', encoding='utf-8')"
   ]
  },
  {
   "cell_type": "markdown",
   "metadata": {},
   "source": [
    "## Data Overview"
   ]
  },
  {
   "cell_type": "markdown",
   "metadata": {},
   "source": [
    "- There are 59946 rows and 31 columns in the profiles dataset.\n",
    "- Each row represents an OkCupid user and the columns are the responses to their user profiles which include multi-choice and short answer questions.\n",
    "\n",
    "- The columns in the dataset include: \n",
    "\n",
    "|Variable       |Description                                  |Variable Type|Missing value|\n",
    "|:--------------|:--------------------------------------------|:------------|:------------|\n",
    "|age            |age of user                                  |continuous   |0            |\n",
    "|body_type      |body type of user                            |categorical  |5296         |\n",
    "|diet           |dietary information                          |categorical  |24395        |\n",
    "|drinks         |alcohol consumption                          |categorical  |2985         |\n",
    "|drugs          |drug usage                                   |categorical  |14080        |\n",
    "|education      |educational attainment                       |categorical  |6628         |\n",
    "|ethnicity      |ethnic backgrounds                           |categorical  |5680         |\n",
    "|height         |height of user                               |continuous   |3            |\n",
    "|income         |income of user                               |continuous   |0            |\n",
    "|job            |employment description                       |categorical  |8198         |\n",
    "|offspring      |children status                              |categorical  |35561        |\n",
    "|orientation    |sexual orientation                           |categorical  |0            |\n",
    "|pets           |pet preferences                              |categorical  |19921        |\n",
    "|religion       |religious background                         |categorical  |20226        |\n",
    "|sex            |gender                                       |categorical  |0            |\n",
    "|sign           |astrological symbol                          |categorical  |0            |\n",
    "|smokes         |smoking consumption                          |categorical  |0            |\n",
    "|status         |relationship status                          |categorical  |0            |\n",
    "|speaks         |language spoken                              |categorical  |0            |\n",
    "|last_online    |last login                                   |date         |0            |\n",
    "|location       |user locations                               |categorical  |0            |\n",
    "\n",
    "- And a set of open short-answer responses to :\n",
    "\n",
    "|Variable       |Description                                   |Variable Type|Missing value|\n",
    "|:--------------|:---------------------------------------------|:------------|:------------|\n",
    "|essay0         |My self summary                               |categorical  |5488         |\n",
    "|essay1         |What I’m doing with my life                   |categorical  |7572         |\n",
    "|essay2         |I’m really good at                            |categorical  |9638         |\n",
    "|essay3         |The first thing people usually notice about me|categorical  |11476        |\n",
    "|essay4         |Favorite books, movies, show, music, and food |categorical  |10537        |\n",
    "|essay5         |The six things I could never do without       |categorical  |10850        |\n",
    "|essay6         |I spend a lot of time thinking about          |categorical  |13771        |\n",
    "|essay7         |On a typical Friday night I am                |categorical  |12451        |\n",
    "|essay8         |The most private thing I am willing to admit  |categorical  |19225        |\n",
    "|essay9         |You should message me if…                     |categorical  |12603        |\n",
    "\n",
    "- There are quite a number of variables with missing values. We will explore the data first before handling the missing values."
   ]
  },
  {
   "cell_type": "code",
   "execution_count": 3,
   "metadata": {
    "ExecuteTime": {
     "end_time": "2022-07-26T14:15:23.618818Z",
     "start_time": "2022-07-26T14:15:23.588818Z"
    }
   },
   "outputs": [
    {
     "data": {
      "text/html": [
       "<div>\n",
       "<style scoped>\n",
       "    .dataframe tbody tr th:only-of-type {\n",
       "        vertical-align: middle;\n",
       "    }\n",
       "\n",
       "    .dataframe tbody tr th {\n",
       "        vertical-align: top;\n",
       "    }\n",
       "\n",
       "    .dataframe thead th {\n",
       "        text-align: right;\n",
       "    }\n",
       "</style>\n",
       "<table border=\"1\" class=\"dataframe\">\n",
       "  <thead>\n",
       "    <tr style=\"text-align: right;\">\n",
       "      <th></th>\n",
       "      <th>age</th>\n",
       "      <th>body_type</th>\n",
       "      <th>diet</th>\n",
       "      <th>drinks</th>\n",
       "      <th>drugs</th>\n",
       "      <th>education</th>\n",
       "      <th>essay0</th>\n",
       "      <th>essay1</th>\n",
       "      <th>essay2</th>\n",
       "      <th>essay3</th>\n",
       "      <th>...</th>\n",
       "      <th>location</th>\n",
       "      <th>offspring</th>\n",
       "      <th>orientation</th>\n",
       "      <th>pets</th>\n",
       "      <th>religion</th>\n",
       "      <th>sex</th>\n",
       "      <th>sign</th>\n",
       "      <th>smokes</th>\n",
       "      <th>speaks</th>\n",
       "      <th>status</th>\n",
       "    </tr>\n",
       "  </thead>\n",
       "  <tbody>\n",
       "    <tr>\n",
       "      <th>0</th>\n",
       "      <td>22</td>\n",
       "      <td>a little extra</td>\n",
       "      <td>strictly anything</td>\n",
       "      <td>socially</td>\n",
       "      <td>never</td>\n",
       "      <td>working on college/university</td>\n",
       "      <td>about me:&lt;br /&gt;\\n&lt;br /&gt;\\ni would love to think that i was some some kind of intellectual:\\neither the dumbest smart guy, or the smartest dumb guy. can't say i\\ncan tell the difference. i love to talk about ideas and concepts. i\\nforge odd metaphors instead of reciting cliches. like the\\nsimularities between a friend of mine's house and an underwater\\nsalt mine. my favorite word is salt by the way (weird choice i\\nknow). to me most things in life are better as metaphors. i seek to\\nmake myself a little better everyday, in some productively lazy\\nway. got tired of tying my shoes. considered hiring a five year\\nold, but would probably have to tie both of our shoes... decided to\\nonly wear leather shoes dress shoes.&lt;br /&gt;\\n&lt;br /&gt;\\nabout you:&lt;br /&gt;\\n&lt;br /&gt;\\nyou love to have really serious, really deep conversations about\\nreally silly stuff. you have to be willing to snap me out of a\\nlight hearted rant with a kiss. you don't have to be funny, but you\\nhave to be able to make me laugh. you should be able to bend spoons\\nwith your mind, and telepathically make me smile while i am still\\nat work. you should love life, and be cool with just letting the\\nwind blow. extra points for reading all this and guessing my\\nfavorite video game (no hints given yet). and lastly you have a\\ngood attention span.</td>\n",
       "      <td>currently working as an international agent for a freight\\nforwarding company. import, export, domestic you know the\\nworks.&lt;br /&gt;\\nonline classes and trying to better myself in my free time. perhaps\\na hours worth of a good book or a video game on a lazy sunday.</td>\n",
       "      <td>making people laugh.&lt;br /&gt;\\nranting about a good salting.&lt;br /&gt;\\nfinding simplicity in complexity, and complexity in simplicity.</td>\n",
       "      <td>the way i look. i am a six foot half asian, half caucasian mutt. it\\nmakes it tough not to notice me, and for me to blend in.</td>\n",
       "      <td>...</td>\n",
       "      <td>south san francisco, california</td>\n",
       "      <td>doesn&amp;rsquo;t have kids, but might want them</td>\n",
       "      <td>straight</td>\n",
       "      <td>likes dogs and likes cats</td>\n",
       "      <td>agnosticism and very serious about it</td>\n",
       "      <td>m</td>\n",
       "      <td>gemini</td>\n",
       "      <td>sometimes</td>\n",
       "      <td>english</td>\n",
       "      <td>single</td>\n",
       "    </tr>\n",
       "    <tr>\n",
       "      <th>1</th>\n",
       "      <td>35</td>\n",
       "      <td>average</td>\n",
       "      <td>mostly other</td>\n",
       "      <td>often</td>\n",
       "      <td>sometimes</td>\n",
       "      <td>working on space camp</td>\n",
       "      <td>i am a chef: this is what that means.&lt;br /&gt;\\n1. i am a workaholic.&lt;br /&gt;\\n2. i love to cook regardless of whether i am at work.&lt;br /&gt;\\n3. i love to drink and eat foods that are probably really bad for\\nme.&lt;br /&gt;\\n4. i love being around people that resemble line 1-3.&lt;br /&gt;\\ni love the outdoors and i am an avid skier. if its snowing i will\\nbe in tahoe at the very least. i am a very confident and friendly.\\ni'm not interested in acting or being a typical guy. i have no time\\nor patience for rediculous acts of territorial pissing. overall i\\nam a very likable easygoing individual. i am very adventurous and\\nalways looking forward to doing new things and hopefully sharing it\\nwith the right person.</td>\n",
       "      <td>dedicating everyday to being an unbelievable badass.</td>\n",
       "      <td>being silly. having ridiculous amonts of fun wherever. being a\\nsmart ass. ohh and i can cook. ;)</td>\n",
       "      <td>NaN</td>\n",
       "      <td>...</td>\n",
       "      <td>oakland, california</td>\n",
       "      <td>doesn&amp;rsquo;t have kids, but might want them</td>\n",
       "      <td>straight</td>\n",
       "      <td>likes dogs and likes cats</td>\n",
       "      <td>agnosticism but not too serious about it</td>\n",
       "      <td>m</td>\n",
       "      <td>cancer</td>\n",
       "      <td>no</td>\n",
       "      <td>english (fluently), spanish (poorly), french (poorly)</td>\n",
       "      <td>single</td>\n",
       "    </tr>\n",
       "    <tr>\n",
       "      <th>2</th>\n",
       "      <td>38</td>\n",
       "      <td>thin</td>\n",
       "      <td>anything</td>\n",
       "      <td>socially</td>\n",
       "      <td>NaN</td>\n",
       "      <td>graduated from masters program</td>\n",
       "      <td>i'm not ashamed of much, but writing public text on an online\\ndating site makes me pleasantly uncomfortable. i'll try to be as\\nearnest as possible in the noble endeavor of standing naked before\\nthe world.&lt;br /&gt;\\n&lt;br /&gt;\\ni've lived in san francisco for 15 years, and both love it and find\\nmyself frustrated with its deficits. lots of great friends and\\nacquaintances (which increases my apprehension to put anything on\\nthis site), but i'm feeling like meeting some new people that\\naren't just friends of friends. it's okay if you are a friend of a\\nfriend too. chances are, if you make it through the complex\\nfiltering process of multiple choice questions, lifestyle\\nstatistics, photo scanning, and these indulgent blurbs of text\\nwithout moving quickly on to another search result, you are\\nprobably already a cultural peer and at most 2 people removed. at\\nfirst, i thought i should say as little as possible here to avoid\\nyou, but that seems silly.&lt;br /&gt;\\n&lt;br /&gt;\\nas far as culture goes, i'm definitely more on the weird side of\\nthe spectrum, but i don't exactly wear it on my sleeve. once you\\nget me talking, it will probably become increasingly apparent that\\nwhile i'd like to think of myself as just like everybody else (and\\nby some definition i certainly am), most people don't see me that\\nway. that's fine with me. most of the people i find myself\\ngravitating towards are pretty weird themselves. you probably are\\ntoo.</td>\n",
       "      <td>i make nerdy software for musicians, artists, and experimenters to\\nindulge in their own weirdness, but i like to spend time away from\\nthe computer when working on my artwork (which is typically more\\nconcerned with group dynamics and communication, than with visual\\nform, objects, or technology). i also record and deejay dance,\\nnoise, pop, and experimental music (most of which electronic or at\\nleast studio based). besides these relatively ego driven\\nactivities, i've been enjoying things like meditation and tai chi\\nto try and gently flirt with ego death.</td>\n",
       "      <td>improvising in different contexts. alternating between being\\npresent and decidedly outside of a moment, or trying to hold both\\nat once. rambling intellectual conversations that hold said\\nconversations in contempt while seeking to find something that\\ntranscends them. being critical while remaining generous. listening\\nto and using body language--often performed in caricature or large\\ngestures, if not outright interpretive dance. dry, dark, and\\nraunchy humor.</td>\n",
       "      <td>my large jaw and large glasses are the physical things people\\ncomment on the most. when sufficiently stimulated, i have an\\nunmistakable cackle of a laugh. after that, it goes in more\\ndirections than i care to describe right now. maybe i'll come back\\nto this.</td>\n",
       "      <td>...</td>\n",
       "      <td>san francisco, california</td>\n",
       "      <td>NaN</td>\n",
       "      <td>straight</td>\n",
       "      <td>has cats</td>\n",
       "      <td>NaN</td>\n",
       "      <td>m</td>\n",
       "      <td>pisces but it doesn&amp;rsquo;t matter</td>\n",
       "      <td>no</td>\n",
       "      <td>english, french, c++</td>\n",
       "      <td>available</td>\n",
       "    </tr>\n",
       "    <tr>\n",
       "      <th>3</th>\n",
       "      <td>23</td>\n",
       "      <td>thin</td>\n",
       "      <td>vegetarian</td>\n",
       "      <td>socially</td>\n",
       "      <td>NaN</td>\n",
       "      <td>working on college/university</td>\n",
       "      <td>i work in a library and go to school. . .</td>\n",
       "      <td>reading things written by old dead people</td>\n",
       "      <td>playing synthesizers and organizing books according to the library\\nof congress classification system</td>\n",
       "      <td>socially awkward but i do my best</td>\n",
       "      <td>...</td>\n",
       "      <td>berkeley, california</td>\n",
       "      <td>doesn&amp;rsquo;t want kids</td>\n",
       "      <td>straight</td>\n",
       "      <td>likes cats</td>\n",
       "      <td>NaN</td>\n",
       "      <td>m</td>\n",
       "      <td>pisces</td>\n",
       "      <td>no</td>\n",
       "      <td>english, german (poorly)</td>\n",
       "      <td>single</td>\n",
       "    </tr>\n",
       "    <tr>\n",
       "      <th>4</th>\n",
       "      <td>29</td>\n",
       "      <td>athletic</td>\n",
       "      <td>NaN</td>\n",
       "      <td>socially</td>\n",
       "      <td>never</td>\n",
       "      <td>graduated from college/university</td>\n",
       "      <td>hey how's it going? currently vague on the profile i know, more to\\ncome soon. looking to meet new folks outside of my circle of\\nfriends. i'm pretty responsive on the reply tip, feel free to drop\\na line. cheers.</td>\n",
       "      <td>work work work work + play</td>\n",
       "      <td>creating imagery to look at:&lt;br /&gt;\\nhttp://bagsbrown.blogspot.com/&lt;br /&gt;\\nhttp://stayruly.blogspot.com/</td>\n",
       "      <td>i smile a lot and my inquisitive nature</td>\n",
       "      <td>...</td>\n",
       "      <td>san francisco, california</td>\n",
       "      <td>NaN</td>\n",
       "      <td>straight</td>\n",
       "      <td>likes dogs and likes cats</td>\n",
       "      <td>NaN</td>\n",
       "      <td>m</td>\n",
       "      <td>aquarius</td>\n",
       "      <td>no</td>\n",
       "      <td>english</td>\n",
       "      <td>single</td>\n",
       "    </tr>\n",
       "  </tbody>\n",
       "</table>\n",
       "<p>5 rows × 31 columns</p>\n",
       "</div>"
      ],
      "text/plain": [
       "   age       body_type               diet    drinks      drugs  \\\n",
       "0   22  a little extra  strictly anything  socially      never   \n",
       "1   35         average       mostly other     often  sometimes   \n",
       "2   38            thin           anything  socially        NaN   \n",
       "3   23            thin         vegetarian  socially        NaN   \n",
       "4   29        athletic                NaN  socially      never   \n",
       "\n",
       "                           education  \\\n",
       "0      working on college/university   \n",
       "1              working on space camp   \n",
       "2     graduated from masters program   \n",
       "3      working on college/university   \n",
       "4  graduated from college/university   \n",
       "\n",
       "                                                                                                                                                                                                                                                                                                                                                                                                                                                                                                                                                                                                                                                                                                                                                                                                                                                                                                                                                                                                                                                                                                                                                                                                                                                                                                                                                                                                                                                                                              essay0  \\\n",
       "0                                                                                                                                    about me:<br />\\n<br />\\ni would love to think that i was some some kind of intellectual:\\neither the dumbest smart guy, or the smartest dumb guy. can't say i\\ncan tell the difference. i love to talk about ideas and concepts. i\\nforge odd metaphors instead of reciting cliches. like the\\nsimularities between a friend of mine's house and an underwater\\nsalt mine. my favorite word is salt by the way (weird choice i\\nknow). to me most things in life are better as metaphors. i seek to\\nmake myself a little better everyday, in some productively lazy\\nway. got tired of tying my shoes. considered hiring a five year\\nold, but would probably have to tie both of our shoes... decided to\\nonly wear leather shoes dress shoes.<br />\\n<br />\\nabout you:<br />\\n<br />\\nyou love to have really serious, really deep conversations about\\nreally silly stuff. you have to be willing to snap me out of a\\nlight hearted rant with a kiss. you don't have to be funny, but you\\nhave to be able to make me laugh. you should be able to bend spoons\\nwith your mind, and telepathically make me smile while i am still\\nat work. you should love life, and be cool with just letting the\\nwind blow. extra points for reading all this and guessing my\\nfavorite video game (no hints given yet). and lastly you have a\\ngood attention span.   \n",
       "1                                                                                                                                                                                                                                                                                                                                                                                                                                                                                                                                                                                                                                                                                                                                                                    i am a chef: this is what that means.<br />\\n1. i am a workaholic.<br />\\n2. i love to cook regardless of whether i am at work.<br />\\n3. i love to drink and eat foods that are probably really bad for\\nme.<br />\\n4. i love being around people that resemble line 1-3.<br />\\ni love the outdoors and i am an avid skier. if its snowing i will\\nbe in tahoe at the very least. i am a very confident and friendly.\\ni'm not interested in acting or being a typical guy. i have no time\\nor patience for rediculous acts of territorial pissing. overall i\\nam a very likable easygoing individual. i am very adventurous and\\nalways looking forward to doing new things and hopefully sharing it\\nwith the right person.   \n",
       "2  i'm not ashamed of much, but writing public text on an online\\ndating site makes me pleasantly uncomfortable. i'll try to be as\\nearnest as possible in the noble endeavor of standing naked before\\nthe world.<br />\\n<br />\\ni've lived in san francisco for 15 years, and both love it and find\\nmyself frustrated with its deficits. lots of great friends and\\nacquaintances (which increases my apprehension to put anything on\\nthis site), but i'm feeling like meeting some new people that\\naren't just friends of friends. it's okay if you are a friend of a\\nfriend too. chances are, if you make it through the complex\\nfiltering process of multiple choice questions, lifestyle\\nstatistics, photo scanning, and these indulgent blurbs of text\\nwithout moving quickly on to another search result, you are\\nprobably already a cultural peer and at most 2 people removed. at\\nfirst, i thought i should say as little as possible here to avoid\\nyou, but that seems silly.<br />\\n<br />\\nas far as culture goes, i'm definitely more on the weird side of\\nthe spectrum, but i don't exactly wear it on my sleeve. once you\\nget me talking, it will probably become increasingly apparent that\\nwhile i'd like to think of myself as just like everybody else (and\\nby some definition i certainly am), most people don't see me that\\nway. that's fine with me. most of the people i find myself\\ngravitating towards are pretty weird themselves. you probably are\\ntoo.   \n",
       "3                                                                                                                                                                                                                                                                                                                                                                                                                                                                                                                                                                                                                                                                                                                                                                                                                                                                                                                                                                                                                                                                                                                                                                                                                                                                                                                                                                                                                                                          i work in a library and go to school. . .   \n",
       "4                                                                                                                                                                                                                                                                                                                                                                                                                                                                                                                                                                                                                                                                                                                                                                                                                                                                                                                                                                                                                                                                                                                                                                                                                                                                              hey how's it going? currently vague on the profile i know, more to\\ncome soon. looking to meet new folks outside of my circle of\\nfriends. i'm pretty responsive on the reply tip, feel free to drop\\na line. cheers.   \n",
       "\n",
       "                                                                                                                                                                                                                                                                                                                                                                                                                                                                                                                                                                                  essay1  \\\n",
       "0                                                                                                                                                                                                                                                                                                                currently working as an international agent for a freight\\nforwarding company. import, export, domestic you know the\\nworks.<br />\\nonline classes and trying to better myself in my free time. perhaps\\na hours worth of a good book or a video game on a lazy sunday.   \n",
       "1                                                                                                                                                                                                                                                                                                                                                                                                                                                                                                                                   dedicating everyday to being an unbelievable badass.   \n",
       "2  i make nerdy software for musicians, artists, and experimenters to\\nindulge in their own weirdness, but i like to spend time away from\\nthe computer when working on my artwork (which is typically more\\nconcerned with group dynamics and communication, than with visual\\nform, objects, or technology). i also record and deejay dance,\\nnoise, pop, and experimental music (most of which electronic or at\\nleast studio based). besides these relatively ego driven\\nactivities, i've been enjoying things like meditation and tai chi\\nto try and gently flirt with ego death.   \n",
       "3                                                                                                                                                                                                                                                                                                                                                                                                                                                                                                                                              reading things written by old dead people   \n",
       "4                                                                                                                                                                                                                                                                                                                                                                                                                                                                                                                                                             work work work work + play   \n",
       "\n",
       "                                                                                                                                                                                                                                                                                                                                                                                                                                                                                essay2  \\\n",
       "0                                                                                                                                                                                                                                                                                                                                                     making people laugh.<br />\\nranting about a good salting.<br />\\nfinding simplicity in complexity, and complexity in simplicity.   \n",
       "1                                                                                                                                                                                                                                                                                                                                                                                    being silly. having ridiculous amonts of fun wherever. being a\\nsmart ass. ohh and i can cook. ;)   \n",
       "2  improvising in different contexts. alternating between being\\npresent and decidedly outside of a moment, or trying to hold both\\nat once. rambling intellectual conversations that hold said\\nconversations in contempt while seeking to find something that\\ntranscends them. being critical while remaining generous. listening\\nto and using body language--often performed in caricature or large\\ngestures, if not outright interpretive dance. dry, dark, and\\nraunchy humor.   \n",
       "3                                                                                                                                                                                                                                                                                                                                                                                playing synthesizers and organizing books according to the library\\nof congress classification system   \n",
       "4                                                                                                                                                                                                                                                                                                                                                                              creating imagery to look at:<br />\\nhttp://bagsbrown.blogspot.com/<br />\\nhttp://stayruly.blogspot.com/   \n",
       "\n",
       "                                                                                                                                                                                                                                                                   essay3  \\\n",
       "0                                                                                                                                           the way i look. i am a six foot half asian, half caucasian mutt. it\\nmakes it tough not to notice me, and for me to blend in.   \n",
       "1                                                                                                                                                                                                                                                                     NaN   \n",
       "2  my large jaw and large glasses are the physical things people\\ncomment on the most. when sufficiently stimulated, i have an\\nunmistakable cackle of a laugh. after that, it goes in more\\ndirections than i care to describe right now. maybe i'll come back\\nto this.   \n",
       "3                                                                                                                                                                                                                                       socially awkward but i do my best   \n",
       "4                                                                                                                                                                                                                                 i smile a lot and my inquisitive nature   \n",
       "\n",
       "   ...                         location  \\\n",
       "0  ...  south san francisco, california   \n",
       "1  ...              oakland, california   \n",
       "2  ...        san francisco, california   \n",
       "3  ...             berkeley, california   \n",
       "4  ...        san francisco, california   \n",
       "\n",
       "                                      offspring orientation  \\\n",
       "0  doesn&rsquo;t have kids, but might want them    straight   \n",
       "1  doesn&rsquo;t have kids, but might want them    straight   \n",
       "2                                           NaN    straight   \n",
       "3                       doesn&rsquo;t want kids    straight   \n",
       "4                                           NaN    straight   \n",
       "\n",
       "                        pets                                  religion sex  \\\n",
       "0  likes dogs and likes cats     agnosticism and very serious about it   m   \n",
       "1  likes dogs and likes cats  agnosticism but not too serious about it   m   \n",
       "2                   has cats                                       NaN   m   \n",
       "3                 likes cats                                       NaN   m   \n",
       "4  likes dogs and likes cats                                       NaN   m   \n",
       "\n",
       "                                 sign     smokes  \\\n",
       "0                              gemini  sometimes   \n",
       "1                              cancer         no   \n",
       "2  pisces but it doesn&rsquo;t matter         no   \n",
       "3                              pisces         no   \n",
       "4                            aquarius         no   \n",
       "\n",
       "                                                  speaks     status  \n",
       "0                                                english     single  \n",
       "1  english (fluently), spanish (poorly), french (poorly)     single  \n",
       "2                                   english, french, c++  available  \n",
       "3                               english, german (poorly)     single  \n",
       "4                                                english     single  \n",
       "\n",
       "[5 rows x 31 columns]"
      ]
     },
     "execution_count": 3,
     "metadata": {},
     "output_type": "execute_result"
    }
   ],
   "source": [
    "profiles_df.head()"
   ]
  },
  {
   "cell_type": "code",
   "execution_count": 4,
   "metadata": {
    "ExecuteTime": {
     "end_time": "2022-07-26T14:15:23.842867Z",
     "start_time": "2022-07-26T14:15:23.621819Z"
    }
   },
   "outputs": [
    {
     "name": "stdout",
     "output_type": "stream",
     "text": [
      "<class 'pandas.core.frame.DataFrame'>\n",
      "RangeIndex: 59946 entries, 0 to 59945\n",
      "Data columns (total 31 columns):\n",
      " #   Column       Non-Null Count  Dtype  \n",
      "---  ------       --------------  -----  \n",
      " 0   age          59946 non-null  int64  \n",
      " 1   body_type    54650 non-null  object \n",
      " 2   diet         35551 non-null  object \n",
      " 3   drinks       56961 non-null  object \n",
      " 4   drugs        45866 non-null  object \n",
      " 5   education    53318 non-null  object \n",
      " 6   essay0       54458 non-null  object \n",
      " 7   essay1       52374 non-null  object \n",
      " 8   essay2       50308 non-null  object \n",
      " 9   essay3       48470 non-null  object \n",
      " 10  essay4       49409 non-null  object \n",
      " 11  essay5       49096 non-null  object \n",
      " 12  essay6       46175 non-null  object \n",
      " 13  essay7       47495 non-null  object \n",
      " 14  essay8       40721 non-null  object \n",
      " 15  essay9       47343 non-null  object \n",
      " 16  ethnicity    54266 non-null  object \n",
      " 17  height       59943 non-null  float64\n",
      " 18  income       59946 non-null  int64  \n",
      " 19  job          51748 non-null  object \n",
      " 20  last_online  59946 non-null  object \n",
      " 21  location     59946 non-null  object \n",
      " 22  offspring    24385 non-null  object \n",
      " 23  orientation  59946 non-null  object \n",
      " 24  pets         40025 non-null  object \n",
      " 25  religion     39720 non-null  object \n",
      " 26  sex          59946 non-null  object \n",
      " 27  sign         48890 non-null  object \n",
      " 28  smokes       54434 non-null  object \n",
      " 29  speaks       59896 non-null  object \n",
      " 30  status       59946 non-null  object \n",
      "dtypes: float64(1), int64(2), object(28)\n",
      "memory usage: 14.2+ MB\n"
     ]
    }
   ],
   "source": [
    "profiles_df.info()"
   ]
  },
  {
   "cell_type": "code",
   "execution_count": 5,
   "metadata": {
    "ExecuteTime": {
     "end_time": "2022-07-26T14:15:24.064933Z",
     "start_time": "2022-07-26T14:15:23.844868Z"
    }
   },
   "outputs": [
    {
     "data": {
      "text/plain": [
       "age                0\n",
       "body_type       5296\n",
       "diet           24395\n",
       "drinks          2985\n",
       "drugs          14080\n",
       "education       6628\n",
       "essay0          5488\n",
       "essay1          7572\n",
       "essay2          9638\n",
       "essay3         11476\n",
       "essay4         10537\n",
       "essay5         10850\n",
       "essay6         13771\n",
       "essay7         12451\n",
       "essay8         19225\n",
       "essay9         12603\n",
       "ethnicity       5680\n",
       "height             3\n",
       "income             0\n",
       "job             8198\n",
       "last_online        0\n",
       "location           0\n",
       "offspring      35561\n",
       "orientation        0\n",
       "pets           19921\n",
       "religion       20226\n",
       "sex                0\n",
       "sign           11056\n",
       "smokes          5512\n",
       "speaks            50\n",
       "status             0\n",
       "dtype: int64"
      ]
     },
     "execution_count": 5,
     "metadata": {},
     "output_type": "execute_result"
    }
   ],
   "source": [
    "# Check null values\n",
    "profiles_df.isnull().sum()"
   ]
  },
  {
   "cell_type": "raw",
   "metadata": {
    "ExecuteTime": {
     "end_time": "2022-07-26T11:31:16.377137Z",
     "start_time": "2022-07-26T11:31:16.144747Z"
    }
   },
   "source": [
    "# Drop all rows with null values\n",
    "profiles_df = profiles_df.dropna()"
   ]
  },
  {
   "cell_type": "markdown",
   "metadata": {},
   "source": [
    "## Exploratory Data Analysis"
   ]
  },
  {
   "cell_type": "markdown",
   "metadata": {},
   "source": [
    "### Continuous variable"
   ]
  },
  {
   "cell_type": "code",
   "execution_count": 6,
   "metadata": {
    "ExecuteTime": {
     "end_time": "2022-07-26T14:15:24.096942Z",
     "start_time": "2022-07-26T14:15:24.066919Z"
    }
   },
   "outputs": [
    {
     "data": {
      "text/html": [
       "<div>\n",
       "<style scoped>\n",
       "    .dataframe tbody tr th:only-of-type {\n",
       "        vertical-align: middle;\n",
       "    }\n",
       "\n",
       "    .dataframe tbody tr th {\n",
       "        vertical-align: top;\n",
       "    }\n",
       "\n",
       "    .dataframe thead th {\n",
       "        text-align: right;\n",
       "    }\n",
       "</style>\n",
       "<table border=\"1\" class=\"dataframe\">\n",
       "  <thead>\n",
       "    <tr style=\"text-align: right;\">\n",
       "      <th></th>\n",
       "      <th>age</th>\n",
       "      <th>height</th>\n",
       "      <th>income</th>\n",
       "    </tr>\n",
       "  </thead>\n",
       "  <tbody>\n",
       "    <tr>\n",
       "      <th>count</th>\n",
       "      <td>59946.000000</td>\n",
       "      <td>59943.000000</td>\n",
       "      <td>59946.000000</td>\n",
       "    </tr>\n",
       "    <tr>\n",
       "      <th>mean</th>\n",
       "      <td>32.340290</td>\n",
       "      <td>68.295281</td>\n",
       "      <td>20033.222534</td>\n",
       "    </tr>\n",
       "    <tr>\n",
       "      <th>std</th>\n",
       "      <td>9.452779</td>\n",
       "      <td>3.994803</td>\n",
       "      <td>97346.192104</td>\n",
       "    </tr>\n",
       "    <tr>\n",
       "      <th>min</th>\n",
       "      <td>18.000000</td>\n",
       "      <td>1.000000</td>\n",
       "      <td>-1.000000</td>\n",
       "    </tr>\n",
       "    <tr>\n",
       "      <th>25%</th>\n",
       "      <td>26.000000</td>\n",
       "      <td>66.000000</td>\n",
       "      <td>-1.000000</td>\n",
       "    </tr>\n",
       "    <tr>\n",
       "      <th>50%</th>\n",
       "      <td>30.000000</td>\n",
       "      <td>68.000000</td>\n",
       "      <td>-1.000000</td>\n",
       "    </tr>\n",
       "    <tr>\n",
       "      <th>75%</th>\n",
       "      <td>37.000000</td>\n",
       "      <td>71.000000</td>\n",
       "      <td>-1.000000</td>\n",
       "    </tr>\n",
       "    <tr>\n",
       "      <th>max</th>\n",
       "      <td>110.000000</td>\n",
       "      <td>95.000000</td>\n",
       "      <td>1000000.000000</td>\n",
       "    </tr>\n",
       "  </tbody>\n",
       "</table>\n",
       "</div>"
      ],
      "text/plain": [
       "                age        height          income\n",
       "count  59946.000000  59943.000000    59946.000000\n",
       "mean      32.340290     68.295281    20033.222534\n",
       "std        9.452779      3.994803    97346.192104\n",
       "min       18.000000      1.000000       -1.000000\n",
       "25%       26.000000     66.000000       -1.000000\n",
       "50%       30.000000     68.000000       -1.000000\n",
       "75%       37.000000     71.000000       -1.000000\n",
       "max      110.000000     95.000000  1000000.000000"
      ]
     },
     "execution_count": 6,
     "metadata": {},
     "output_type": "execute_result"
    }
   ],
   "source": [
    "profiles_df.describe()"
   ]
  },
  {
   "cell_type": "code",
   "execution_count": 7,
   "metadata": {
    "ExecuteTime": {
     "end_time": "2022-07-26T14:15:24.112928Z",
     "start_time": "2022-07-26T14:15:24.098925Z"
    }
   },
   "outputs": [],
   "source": [
    "def plot_displot(df, x, hue, title, xlabel, binwidth):\n",
    "    sns.displot(data=profiles_df, x=x, hue=hue, kind='hist', binwidth=binwidth, multiple = 'stack')\n",
    "    plt.title(title, fontsize=15, fontweight='bold')\n",
    "    plt.xlabel(xlabel)\n",
    "    #plt.axvline(df[x].median(), color='r', linestyle='dashed', linewidth=3, label='Median')\n",
    "    #plt.axvline(df[x].mean(), color='k', linestyle='dashed', linewidth=3, label = 'Mean')\n",
    "    #plt.legend(loc='best', ncol=2)"
   ]
  },
  {
   "cell_type": "markdown",
   "metadata": {},
   "source": [
    "#### Age"
   ]
  },
  {
   "cell_type": "markdown",
   "metadata": {},
   "source": [
    "The age distribution is right-skewed. Most OKCupid users are in their late 20s to early 30s. There are more male than female using the app."
   ]
  },
  {
   "cell_type": "code",
   "execution_count": 8,
   "metadata": {
    "ExecuteTime": {
     "end_time": "2022-07-26T14:15:24.479011Z",
     "start_time": "2022-07-26T14:15:24.114929Z"
    }
   },
   "outputs": [
    {
     "data": {
      "image/png": "[encoded data removed]",
      "text/plain": [
       "<Figure size 405.625x360 with 1 Axes>"
      ]
     },
     "metadata": {
      "needs_background": "light"
     },
     "output_type": "display_data"
    }
   ],
   "source": [
    "# Plot age distribution\n",
    "plot_displot(profiles_df, 'age', 'sex', 'Age Distribution', 'Age', 3)"
   ]
  },
  {
   "cell_type": "markdown",
   "metadata": {},
   "source": [
    "#### Height"
   ]
  },
  {
   "cell_type": "markdown",
   "metadata": {},
   "source": [
    "Height is normally distributed with an average of 68. Males are generally taller than female."
   ]
  },
  {
   "cell_type": "code",
   "execution_count": 9,
   "metadata": {
    "ExecuteTime": {
     "end_time": "2022-07-26T14:15:24.863095Z",
     "start_time": "2022-07-26T14:15:24.481012Z"
    }
   },
   "outputs": [
    {
     "data": {
      "image/png": "[encoded data removed]",
      "text/plain": [
       "<Figure size 405.625x360 with 1 Axes>"
      ]
     },
     "metadata": {
      "needs_background": "light"
     },
     "output_type": "display_data"
    }
   ],
   "source": [
    "# Plot height distribution\n",
    "plot_displot(profiles_df, 'height', 'sex', 'Height Distribution', 'Height', 4)"
   ]
  },
  {
   "cell_type": "markdown",
   "metadata": {},
   "source": [
    "#### Income"
   ]
  },
  {
   "cell_type": "markdown",
   "metadata": {},
   "source": [
    "The income distribution is right-skewed and it appears that most users do not provide their income. There is a small number of users with income \\\\$1000000."
   ]
  },
  {
   "cell_type": "code",
   "execution_count": 10,
   "metadata": {
    "ExecuteTime": {
     "end_time": "2022-07-26T14:15:25.259186Z",
     "start_time": "2022-07-26T14:15:24.866099Z"
    }
   },
   "outputs": [
    {
     "data": {
      "image/png": "[encoded data removed]",
      "text/plain": [
       "<Figure size 405.625x360 with 1 Axes>"
      ]
     },
     "metadata": {
      "needs_background": "light"
     },
     "output_type": "display_data"
    }
   ],
   "source": [
    "# Plot income distribution\n",
    "plot_displot(profiles_df, 'income', 'sex', 'Income Distribution', 'Income', 40000)"
   ]
  },
  {
   "cell_type": "code",
   "execution_count": 11,
   "metadata": {
    "ExecuteTime": {
     "end_time": "2022-07-26T14:15:25.275188Z",
     "start_time": "2022-07-26T14:15:25.261189Z"
    }
   },
   "outputs": [
    {
     "data": {
      "text/plain": [
       "-1          48442\n",
       " 20000       2952\n",
       " 100000      1621\n",
       " 80000       1111\n",
       " 30000       1048\n",
       " 40000       1005\n",
       " 50000        975\n",
       " 60000        736\n",
       " 70000        707\n",
       " 150000       631\n",
       " 1000000      521\n",
       " 250000       149\n",
       " 500000        48\n",
       "Name: income, dtype: int64"
      ]
     },
     "execution_count": 11,
     "metadata": {},
     "output_type": "execute_result"
    }
   ],
   "source": [
    "profiles_df['income'].value_counts()"
   ]
  },
  {
   "cell_type": "markdown",
   "metadata": {},
   "source": [
    "### Categorical variable"
   ]
  },
  {
   "cell_type": "code",
   "execution_count": 12,
   "metadata": {
    "ExecuteTime": {
     "end_time": "2022-07-26T14:15:25.291192Z",
     "start_time": "2022-07-26T14:15:25.277189Z"
    }
   },
   "outputs": [],
   "source": [
    "def plot_countplot(df, y, title, ylabel, hue=None):\n",
    "    plt.subplots(figsize=(10,5))\n",
    "    sns.countplot(data=df, y=y, hue=hue, order=df[y].value_counts().index)\n",
    "    plt.title(title, fontsize=15, fontweight='bold')\n",
    "    plt.xlabel('Count')\n",
    "    plt.ylabel(ylabel)\n",
    "    if hue != None:\n",
    "        plt.legend(loc='lower right', ncol=2)"
   ]
  },
  {
   "cell_type": "markdown",
   "metadata": {},
   "source": [
    "#### Body Type"
   ]
  },
  {
   "cell_type": "code",
   "execution_count": 13,
   "metadata": {
    "ExecuteTime": {
     "end_time": "2022-07-26T14:15:25.450239Z",
     "start_time": "2022-07-26T14:15:25.293194Z"
    }
   },
   "outputs": [
    {
     "data": {
      "image/png": "[encoded data removed]",
      "text/plain": [
       "<Figure size 720x360 with 1 Axes>"
      ]
     },
     "metadata": {
      "needs_background": "light"
     },
     "output_type": "display_data"
    }
   ],
   "source": [
    "# Plot body type countplot\n",
    "plot_countplot(profiles_df, 'body_type', 'Body Type', 'Body Type')"
   ]
  },
  {
   "cell_type": "markdown",
   "metadata": {},
   "source": [
    "- Majority of the users felt that they have an average body build, followed by a fit and athletic body build."
   ]
  },
  {
   "cell_type": "markdown",
   "metadata": {},
   "source": [
    "#### Diet"
   ]
  },
  {
   "cell_type": "code",
   "execution_count": 14,
   "metadata": {
    "ExecuteTime": {
     "end_time": "2022-07-26T14:15:25.465246Z",
     "start_time": "2022-07-26T14:15:25.452230Z"
    }
   },
   "outputs": [
    {
     "data": {
      "text/plain": [
       "mostly anything        16585\n",
       "anything                6183\n",
       "strictly anything       5113\n",
       "mostly vegetarian       3444\n",
       "mostly other            1007\n",
       "strictly vegetarian      875\n",
       "vegetarian               667\n",
       "strictly other           452\n",
       "mostly vegan             338\n",
       "other                    331\n",
       "strictly vegan           228\n",
       "vegan                    136\n",
       "mostly kosher             86\n",
       "mostly halal              48\n",
       "strictly halal            18\n",
       "strictly kosher           18\n",
       "halal                     11\n",
       "kosher                    11\n",
       "Name: diet, dtype: int64"
      ]
     },
     "execution_count": 14,
     "metadata": {},
     "output_type": "execute_result"
    }
   ],
   "source": [
    "profiles_df['diet'].value_counts()"
   ]
  },
  {
   "cell_type": "code",
   "execution_count": 15,
   "metadata": {
    "ExecuteTime": {
     "end_time": "2022-07-26T14:15:25.655273Z",
     "start_time": "2022-07-26T14:15:25.467232Z"
    }
   },
   "outputs": [
    {
     "data": {
      "text/plain": [
       "anything      27881\n",
       "vegetarian     4986\n",
       "other          1790\n",
       "vegan           702\n",
       "kosher          115\n",
       "halal            77\n",
       "Name: diet_cleaned, dtype: int64"
      ]
     },
     "execution_count": 15,
     "metadata": {},
     "output_type": "execute_result"
    }
   ],
   "source": [
    "# Split the text and extract the second position text\n",
    "profiles_df['diet_cleaned'] = profiles_df.diet.str.split().str.get(-1)\n",
    "profiles_df['diet_cleaned'].value_counts()"
   ]
  },
  {
   "cell_type": "code",
   "execution_count": 16,
   "metadata": {
    "ExecuteTime": {
     "end_time": "2022-07-26T14:15:25.783323Z",
     "start_time": "2022-07-26T14:15:25.657274Z"
    }
   },
   "outputs": [
    {
     "data": {
      "image/png": "[encoded data removed]",
      "text/plain": [
       "<Figure size 720x360 with 1 Axes>"
      ]
     },
     "metadata": {
      "needs_background": "light"
     },
     "output_type": "display_data"
    }
   ],
   "source": [
    "# Plot diet countplot\n",
    "plot_countplot(profiles_df, 'diet_cleaned', 'Dietary Information', 'Diet')"
   ]
  },
  {
   "cell_type": "markdown",
   "metadata": {},
   "source": [
    "- Most users have no dietary restriction."
   ]
  },
  {
   "cell_type": "markdown",
   "metadata": {},
   "source": [
    "#### Education"
   ]
  },
  {
   "cell_type": "code",
   "execution_count": 17,
   "metadata": {
    "ExecuteTime": {
     "end_time": "2022-07-26T14:15:25.799306Z",
     "start_time": "2022-07-26T14:15:25.785317Z"
    }
   },
   "outputs": [
    {
     "data": {
      "text/plain": [
       "graduated from college/university    23959\n",
       "graduated from masters program        8961\n",
       "working on college/university         5712\n",
       "working on masters program            1683\n",
       "graduated from two-year college       1531\n",
       "graduated from high school            1428\n",
       "graduated from ph.d program           1272\n",
       "graduated from law school             1122\n",
       "working on two-year college           1074\n",
       "dropped out of college/university      995\n",
       "working on ph.d program                983\n",
       "college/university                     801\n",
       "graduated from space camp              657\n",
       "dropped out of space camp              523\n",
       "graduated from med school              446\n",
       "working on space camp                  445\n",
       "working on law school                  269\n",
       "two-year college                       222\n",
       "working on med school                  212\n",
       "dropped out of two-year college        191\n",
       "dropped out of masters program         140\n",
       "masters program                        136\n",
       "dropped out of ph.d program            127\n",
       "dropped out of high school             102\n",
       "high school                             96\n",
       "working on high school                  87\n",
       "space camp                              58\n",
       "ph.d program                            26\n",
       "law school                              19\n",
       "dropped out of law school               18\n",
       "dropped out of med school               12\n",
       "med school                              11\n",
       "Name: education, dtype: int64"
      ]
     },
     "execution_count": 17,
     "metadata": {},
     "output_type": "execute_result"
    }
   ],
   "source": [
    "profiles_df['education'].value_counts()"
   ]
  },
  {
   "cell_type": "code",
   "execution_count": 18,
   "metadata": {
    "ExecuteTime": {
     "end_time": "2022-07-26T14:15:26.007366Z",
     "start_time": "2022-07-26T14:15:25.802321Z"
    }
   },
   "outputs": [
    {
     "data": {
      "text/plain": [
       "from college/university    23959\n",
       "masters program            10920\n",
       "on college/university       5712\n",
       "two-year college            3018\n",
       "ph.d program                2408\n",
       "high school                 1713\n",
       "space camp                  1683\n",
       "law school                  1428\n",
       "of college/university        995\n",
       "college/university           801\n",
       "med school                   681\n",
       "Name: education_cleaned, dtype: int64"
      ]
     },
     "execution_count": 18,
     "metadata": {},
     "output_type": "execute_result"
    }
   ],
   "source": [
    "# Split the text and extract the last 2 positions text and join them\n",
    "profiles_df['education_cleaned'] = profiles_df.education.str.split().str[-2:].str.join(' ')\n",
    "profiles_df['education_cleaned'].value_counts()"
   ]
  },
  {
   "cell_type": "code",
   "execution_count": 19,
   "metadata": {
    "ExecuteTime": {
     "end_time": "2022-07-26T14:15:26.039383Z",
     "start_time": "2022-07-26T14:15:26.009356Z"
    }
   },
   "outputs": [
    {
     "data": {
      "text/plain": [
       "college/university    31467\n",
       "masters program       10920\n",
       "two-year college       3018\n",
       "ph.d program           2408\n",
       "high school            1713\n",
       "space camp             1683\n",
       "law school             1428\n",
       "med school              681\n",
       "Name: education_cleaned, dtype: int64"
      ]
     },
     "execution_count": 19,
     "metadata": {},
     "output_type": "execute_result"
    }
   ],
   "source": [
    "# Perform further cleaning on the education column\n",
    "ed_dict = {'from college/university': 'college/university', \n",
    "           'masters program': 'masters program', \n",
    "           'on college/university': 'college/university', \n",
    "           'two-year college': 'two-year college', \n",
    "           'ph.d program': 'ph.d program', \n",
    "           'high school':'high school', \n",
    "           'space camp': 'space camp', \n",
    "           'law school': 'law school', \n",
    "           'of college/university': 'college/university', \n",
    "           'college/university':'college/university', \n",
    "           'med school': 'med school'}\n",
    "\n",
    "profiles_df['education_cleaned'] = profiles_df['education_cleaned'].map(ed_dict)\n",
    "profiles_df['education_cleaned'].value_counts()"
   ]
  },
  {
   "cell_type": "code",
   "execution_count": 20,
   "metadata": {
    "ExecuteTime": {
     "end_time": "2022-07-26T14:15:26.183410Z",
     "start_time": "2022-07-26T14:15:26.041363Z"
    }
   },
   "outputs": [
    {
     "data": {
      "image/png": "[encoded data removed]",
      "text/plain": [
       "<Figure size 720x360 with 1 Axes>"
      ]
     },
     "metadata": {
      "needs_background": "light"
     },
     "output_type": "display_data"
    }
   ],
   "source": [
    "# Plot education countplot\n",
    "plot_countplot(profiles_df, 'education_cleaned', 'Education Attainment', 'Education')"
   ]
  },
  {
   "cell_type": "markdown",
   "metadata": {},
   "source": [
    "- Majority of the users have a college/university education."
   ]
  },
  {
   "cell_type": "markdown",
   "metadata": {},
   "source": [
    "#### Religion"
   ]
  },
  {
   "cell_type": "code",
   "execution_count": 21,
   "metadata": {
    "ExecuteTime": {
     "end_time": "2022-07-26T14:15:26.199414Z",
     "start_time": "2022-07-26T14:15:26.185402Z"
    }
   },
   "outputs": [
    {
     "data": {
      "text/plain": [
       "agnosticism                                   2724\n",
       "other                                         2691\n",
       "agnosticism but not too serious about it      2636\n",
       "agnosticism and laughing about it             2496\n",
       "catholicism but not too serious about it      2318\n",
       "atheism                                       2175\n",
       "other and laughing about it                   2119\n",
       "atheism and laughing about it                 2074\n",
       "christianity                                  1957\n",
       "christianity but not too serious about it     1952\n",
       "other but not too serious about it            1554\n",
       "judaism but not too serious about it          1517\n",
       "atheism but not too serious about it          1318\n",
       "catholicism                                   1064\n",
       "christianity and somewhat serious about it     927\n",
       "atheism and somewhat serious about it          848\n",
       "other and somewhat serious about it            846\n",
       "catholicism and laughing about it              726\n",
       "judaism and laughing about it                  681\n",
       "buddhism but not too serious about it          650\n",
       "agnosticism and somewhat serious about it      642\n",
       "judaism                                        612\n",
       "christianity and very serious about it         578\n",
       "atheism and very serious about it              570\n",
       "catholicism and somewhat serious about it      548\n",
       "other and very serious about it                533\n",
       "buddhism and laughing about it                 466\n",
       "buddhism                                       403\n",
       "christianity and laughing about it             373\n",
       "buddhism and somewhat serious about it         359\n",
       "agnosticism and very serious about it          314\n",
       "judaism and somewhat serious about it          266\n",
       "hinduism but not too serious about it          227\n",
       "hinduism                                       107\n",
       "catholicism and very serious about it          102\n",
       "buddhism and very serious about it              70\n",
       "hinduism and somewhat serious about it          58\n",
       "islam                                           48\n",
       "hinduism and laughing about it                  44\n",
       "islam but not too serious about it              40\n",
       "judaism and very serious about it               22\n",
       "islam and somewhat serious about it             22\n",
       "islam and laughing about it                     16\n",
       "hinduism and very serious about it              14\n",
       "islam and very serious about it                 13\n",
       "Name: religion, dtype: int64"
      ]
     },
     "execution_count": 21,
     "metadata": {},
     "output_type": "execute_result"
    }
   ],
   "source": [
    "profiles_df['religion'].value_counts()"
   ]
  },
  {
   "cell_type": "code",
   "execution_count": 22,
   "metadata": {
    "ExecuteTime": {
     "end_time": "2022-07-26T14:15:26.391441Z",
     "start_time": "2022-07-26T14:15:26.201398Z"
    },
    "scrolled": true
   },
   "outputs": [
    {
     "data": {
      "text/plain": [
       "agnosticism     8812\n",
       "other           7743\n",
       "atheism         6985\n",
       "christianity    5787\n",
       "catholicism     4758\n",
       "judaism         3098\n",
       "buddhism        1948\n",
       "hinduism         450\n",
       "islam            139\n",
       "Name: religion_cleaned, dtype: int64"
      ]
     },
     "execution_count": 22,
     "metadata": {},
     "output_type": "execute_result"
    }
   ],
   "source": [
    "# Split the text with the comma and extract the first position text\n",
    "profiles_df['religion_cleaned'] = profiles_df.religion.str.split().str.get(0)\n",
    "profiles_df['religion_cleaned'].value_counts()"
   ]
  },
  {
   "cell_type": "code",
   "execution_count": 23,
   "metadata": {
    "ExecuteTime": {
     "end_time": "2022-07-26T14:15:26.551493Z",
     "start_time": "2022-07-26T14:15:26.393440Z"
    },
    "scrolled": true
   },
   "outputs": [
    {
     "data": {
      "image/png": "[encoded data removed]",
      "text/plain": [
       "<Figure size 720x360 with 1 Axes>"
      ]
     },
     "metadata": {
      "needs_background": "light"
     },
     "output_type": "display_data"
    }
   ],
   "source": [
    "# Plot religion countplot\n",
    "plot_countplot(profiles_df, 'religion_cleaned', 'Religion', None)"
   ]
  },
  {
   "cell_type": "markdown",
   "metadata": {},
   "source": [
    "- Most users are agnosticism, other or athesim and it shows majority are not so religious."
   ]
  },
  {
   "cell_type": "markdown",
   "metadata": {},
   "source": [
    "#### Astrological symbol"
   ]
  },
  {
   "cell_type": "code",
   "execution_count": 24,
   "metadata": {
    "ExecuteTime": {
     "end_time": "2022-07-26T14:15:26.567497Z",
     "start_time": "2022-07-26T14:15:26.553488Z"
    }
   },
   "outputs": [
    {
     "data": {
      "text/plain": [
       "gemini and it&rsquo;s fun to think about         1782\n",
       "scorpio and it&rsquo;s fun to think about        1772\n",
       "leo and it&rsquo;s fun to think about            1692\n",
       "libra and it&rsquo;s fun to think about          1649\n",
       "taurus and it&rsquo;s fun to think about         1640\n",
       "cancer and it&rsquo;s fun to think about         1597\n",
       "pisces and it&rsquo;s fun to think about         1592\n",
       "sagittarius and it&rsquo;s fun to think about    1583\n",
       "virgo and it&rsquo;s fun to think about          1574\n",
       "aries and it&rsquo;s fun to think about          1573\n",
       "aquarius and it&rsquo;s fun to think about       1503\n",
       "virgo but it doesn&rsquo;t matter                1497\n",
       "leo but it doesn&rsquo;t matter                  1457\n",
       "cancer but it doesn&rsquo;t matter               1454\n",
       "gemini but it doesn&rsquo;t matter               1453\n",
       "taurus but it doesn&rsquo;t matter               1450\n",
       "libra but it doesn&rsquo;t matter                1408\n",
       "aquarius but it doesn&rsquo;t matter             1408\n",
       "capricorn and it&rsquo;s fun to think about      1376\n",
       "sagittarius but it doesn&rsquo;t matter          1375\n",
       "aries but it doesn&rsquo;t matter                1373\n",
       "capricorn but it doesn&rsquo;t matter            1319\n",
       "pisces but it doesn&rsquo;t matter               1300\n",
       "scorpio but it doesn&rsquo;t matter              1264\n",
       "leo                                              1159\n",
       "libra                                            1098\n",
       "cancer                                           1092\n",
       "virgo                                            1029\n",
       "scorpio                                          1020\n",
       "gemini                                           1013\n",
       "taurus                                           1001\n",
       "aries                                             996\n",
       "pisces                                            992\n",
       "aquarius                                          954\n",
       "sagittarius                                       937\n",
       "capricorn                                         833\n",
       "scorpio and it matters a lot                       78\n",
       "leo and it matters a lot                           66\n",
       "cancer and it matters a lot                        63\n",
       "aquarius and it matters a lot                      63\n",
       "pisces and it matters a lot                        62\n",
       "gemini and it matters a lot                        62\n",
       "libra and it matters a lot                         52\n",
       "taurus and it matters a lot                        49\n",
       "aries and it matters a lot                         47\n",
       "sagittarius and it matters a lot                   47\n",
       "capricorn and it matters a lot                     45\n",
       "virgo and it matters a lot                         41\n",
       "Name: sign, dtype: int64"
      ]
     },
     "execution_count": 24,
     "metadata": {},
     "output_type": "execute_result"
    }
   ],
   "source": [
    "profiles_df['sign'].value_counts()"
   ]
  },
  {
   "cell_type": "code",
   "execution_count": 25,
   "metadata": {
    "ExecuteTime": {
     "end_time": "2022-07-26T14:15:26.663501Z",
     "start_time": "2022-07-26T14:15:26.570479Z"
    }
   },
   "outputs": [
    {
     "data": {
      "text/plain": [
       "leo            4374\n",
       "gemini         4310\n",
       "libra          4207\n",
       "cancer         4206\n",
       "virgo          4141\n",
       "taurus         4140\n",
       "scorpio        4134\n",
       "aries          3989\n",
       "pisces         3946\n",
       "sagittarius    3942\n",
       "aquarius       3928\n",
       "capricorn      3573\n",
       "Name: sign_cleaned, dtype: int64"
      ]
     },
     "execution_count": 25,
     "metadata": {},
     "output_type": "execute_result"
    }
   ],
   "source": [
    "# Split the text with the comma and extract the first position text\n",
    "profiles_df['sign_cleaned'] = profiles_df.sign.str.split().str.get(0)\n",
    "profiles_df['sign_cleaned'].value_counts()"
   ]
  },
  {
   "cell_type": "code",
   "execution_count": 26,
   "metadata": {
    "ExecuteTime": {
     "end_time": "2022-07-26T14:15:26.855546Z",
     "start_time": "2022-07-26T14:15:26.665502Z"
    },
    "scrolled": true
   },
   "outputs": [
    {
     "data": {
      "image/png": "[encoded data removed]",
      "text/plain": [
       "<Figure size 720x360 with 1 Axes>"
      ]
     },
     "metadata": {
      "needs_background": "light"
     },
     "output_type": "display_data"
    }
   ],
   "source": [
    "# Plot astrological symbol countplot\n",
    "plot_countplot(profiles_df, 'sign_cleaned', 'Astrological Symbol', None)"
   ]
  },
  {
   "cell_type": "markdown",
   "metadata": {},
   "source": [
    "- There are less capricorn users in this dataset."
   ]
  },
  {
   "cell_type": "markdown",
   "metadata": {},
   "source": [
    "#### Job"
   ]
  },
  {
   "cell_type": "code",
   "execution_count": 27,
   "metadata": {
    "ExecuteTime": {
     "end_time": "2022-07-26T14:15:27.063591Z",
     "start_time": "2022-07-26T14:15:26.857543Z"
    },
    "run_control": {
     "marked": false
    }
   },
   "outputs": [
    {
     "data": {
      "image/png": "[encoded data removed]",
      "text/plain": [
       "<Figure size 720x360 with 1 Axes>"
      ]
     },
     "metadata": {
      "needs_background": "light"
     },
     "output_type": "display_data"
    }
   ],
   "source": [
    "# Plot employment countplot\n",
    "plot_countplot(profiles_df, 'job', 'Employment description', None)"
   ]
  },
  {
   "cell_type": "markdown",
   "metadata": {},
   "source": [
    "#### Orientation"
   ]
  },
  {
   "cell_type": "code",
   "execution_count": 28,
   "metadata": {
    "ExecuteTime": {
     "end_time": "2022-07-26T14:15:27.159627Z",
     "start_time": "2022-07-26T14:15:27.067605Z"
    },
    "run_control": {
     "marked": false
    }
   },
   "outputs": [
    {
     "data": {
      "image/png": "[encoded data removed]",
      "text/plain": [
       "<Figure size 720x360 with 1 Axes>"
      ]
     },
     "metadata": {
      "needs_background": "light"
     },
     "output_type": "display_data"
    }
   ],
   "source": [
    "# Plot orientation countplot\n",
    "plot_countplot(profiles_df, 'orientation', 'Sex Orientation', None)"
   ]
  },
  {
   "cell_type": "markdown",
   "metadata": {},
   "source": [
    "#### Offspring"
   ]
  },
  {
   "cell_type": "code",
   "execution_count": 29,
   "metadata": {
    "ExecuteTime": {
     "end_time": "2022-07-26T14:15:27.175618Z",
     "start_time": "2022-07-26T14:15:27.161613Z"
    },
    "run_control": {
     "marked": false
    }
   },
   "outputs": [
    {
     "data": {
      "text/plain": [
       "doesn&rsquo;t have kids                                7560\n",
       "doesn&rsquo;t have kids, but might want them           3875\n",
       "doesn&rsquo;t have kids, but wants them                3565\n",
       "doesn&rsquo;t want kids                                2927\n",
       "has kids                                               1883\n",
       "has a kid                                              1881\n",
       "doesn&rsquo;t have kids, and doesn&rsquo;t want any    1132\n",
       "has kids, but doesn&rsquo;t want more                   442\n",
       "has a kid, but doesn&rsquo;t want more                  275\n",
       "has a kid, and might want more                          231\n",
       "wants kids                                              225\n",
       "might want kids                                         182\n",
       "has kids, and might want more                           115\n",
       "has a kid, and wants more                                71\n",
       "has kids, and wants more                                 21\n",
       "Name: offspring, dtype: int64"
      ]
     },
     "execution_count": 29,
     "metadata": {},
     "output_type": "execute_result"
    }
   ],
   "source": [
    "profiles_df['offspring'].value_counts()"
   ]
  },
  {
   "cell_type": "code",
   "execution_count": 30,
   "metadata": {
    "ExecuteTime": {
     "end_time": "2022-07-26T14:15:27.255652Z",
     "start_time": "2022-07-26T14:15:27.177616Z"
    }
   },
   "outputs": [
    {
     "data": {
      "text/plain": [
       "doesn't have kids                          7560\n",
       "doesn't have kids, but might want them     3875\n",
       "doesn't have kids, but wants them          3565\n",
       "doesn't want kids                          2927\n",
       "has kids                                   1883\n",
       "has a kid                                  1881\n",
       "doesn't have kids, and doesn't want any    1132\n",
       "has kids, but doesn't want more             442\n",
       "has a kid, but doesn't want more            275\n",
       "has a kid, and might want more              231\n",
       "wants kids                                  225\n",
       "might want kids                             182\n",
       "has kids, and might want more               115\n",
       "has a kid, and wants more                    71\n",
       "has kids, and wants more                     21\n",
       "Name: offspring, dtype: int64"
      ]
     },
     "execution_count": 30,
     "metadata": {},
     "output_type": "execute_result"
    }
   ],
   "source": [
    "# Replace 'doesn&rsquo;t' with 'doesn't'.\n",
    "profiles_df['offspring'] = profiles_df['offspring'].replace(['doesn&rsquo;t'], [\"doesn't\"], regex=True)\n",
    "profiles_df['offspring'].value_counts()"
   ]
  },
  {
   "cell_type": "code",
   "execution_count": 31,
   "metadata": {
    "ExecuteTime": {
     "end_time": "2022-07-26T14:15:27.303662Z",
     "start_time": "2022-07-26T14:15:27.257633Z"
    }
   },
   "outputs": [
    {
     "data": {
      "text/plain": [
       "doesn't have kids    16132\n",
       "doesn't want kids     2927\n",
       "has kids              2461\n",
       "has a kid             2458\n",
       "wants kids             225\n",
       "might want kids        182\n",
       "Name: offspring_cleaned, dtype: int64"
      ]
     },
     "execution_count": 31,
     "metadata": {},
     "output_type": "execute_result"
    }
   ],
   "source": [
    "# Split the text with the comma and extract the first position text\n",
    "profiles_df['offspring_cleaned'] = profiles_df.offspring.str.split(',').str.get(0)\n",
    "profiles_df['offspring_cleaned'].value_counts()"
   ]
  },
  {
   "cell_type": "code",
   "execution_count": 32,
   "metadata": {
    "ExecuteTime": {
     "end_time": "2022-07-26T14:15:27.335671Z",
     "start_time": "2022-07-26T14:15:27.305644Z"
    }
   },
   "outputs": [
    {
     "data": {
      "text/plain": [
       "No children             16132\n",
       "Have children            4919\n",
       "Do not want children     2927\n",
       "Want children             182\n",
       "Name: offspring_cleaned, dtype: int64"
      ]
     },
     "execution_count": 32,
     "metadata": {},
     "output_type": "execute_result"
    }
   ],
   "source": [
    "# Perform further cleaning on the offspring column\n",
    "offspring_dict = {\"doesn't have kids\" : \"No children\",\n",
    "                  \"doesn't want kids\" : \"Do not want children\",\n",
    "                  \"has kids\" : \"Have children\",\n",
    "                  \"has a kid\" : \"Have children\",\n",
    "                  \"wants kid\" : \"Want children\",\n",
    "                  \"might want kids\" : \"Want children\"}\n",
    "\n",
    "profiles_df['offspring_cleaned'] = profiles_df['offspring_cleaned'].map(offspring_dict)\n",
    "profiles_df['offspring_cleaned'].value_counts()"
   ]
  },
  {
   "cell_type": "code",
   "execution_count": 33,
   "metadata": {
    "ExecuteTime": {
     "end_time": "2022-07-26T14:15:27.447697Z",
     "start_time": "2022-07-26T14:15:27.337662Z"
    },
    "scrolled": true
   },
   "outputs": [
    {
     "data": {
      "image/png": "[encoded data removed]",
      "text/plain": [
       "<Figure size 720x360 with 1 Axes>"
      ]
     },
     "metadata": {
      "needs_background": "light"
     },
     "output_type": "display_data"
    }
   ],
   "source": [
    "# Plot offspring countplot\n",
    "plot_countplot(profiles_df, 'offspring_cleaned', 'Children Status', None)"
   ]
  },
  {
   "cell_type": "markdown",
   "metadata": {},
   "source": [
    "#### Relationship status"
   ]
  },
  {
   "cell_type": "code",
   "execution_count": 34,
   "metadata": {
    "ExecuteTime": {
     "end_time": "2022-07-26T14:15:27.463698Z",
     "start_time": "2022-07-26T14:15:27.449677Z"
    },
    "run_control": {
     "marked": false
    }
   },
   "outputs": [
    {
     "data": {
      "text/plain": [
       "single            55697\n",
       "seeing someone     2064\n",
       "available          1865\n",
       "married             310\n",
       "unknown              10\n",
       "Name: status, dtype: int64"
      ]
     },
     "execution_count": 34,
     "metadata": {},
     "output_type": "execute_result"
    }
   ],
   "source": [
    "profiles_df['status'].value_counts()"
   ]
  },
  {
   "cell_type": "code",
   "execution_count": 35,
   "metadata": {
    "ExecuteTime": {
     "end_time": "2022-07-26T14:15:27.717753Z",
     "start_time": "2022-07-26T14:15:27.465681Z"
    },
    "scrolled": true
   },
   "outputs": [
    {
     "data": {
      "image/png": "[encoded data removed]",
      "text/plain": [
       "<Figure size 720x360 with 1 Axes>"
      ]
     },
     "metadata": {
      "needs_background": "light"
     },
     "output_type": "display_data"
    }
   ],
   "source": [
    "# Plot offspring countplot\n",
    "plot_countplot(profiles_df, 'status', 'Relationship Status', None, 'sex')"
   ]
  },
  {
   "cell_type": "markdown",
   "metadata": {},
   "source": [
    "- Majority of the users are single or available. This makes sense as user joined the dating app to find someone. \n",
    "- There is a small percentage of the users that are non-single using the app. These users may currently have relationship problems."
   ]
  },
  {
   "cell_type": "markdown",
   "metadata": {},
   "source": [
    "#### Location"
   ]
  },
  {
   "cell_type": "code",
   "execution_count": 36,
   "metadata": {
    "ExecuteTime": {
     "end_time": "2022-07-26T14:15:27.733741Z",
     "start_time": "2022-07-26T14:15:27.719741Z"
    },
    "scrolled": true
   },
   "outputs": [
    {
     "data": {
      "text/plain": [
       "san francisco, california              31064\n",
       "oakland, california                     7214\n",
       "berkeley, california                    4212\n",
       "san mateo, california                   1331\n",
       "palo alto, california                   1064\n",
       "alameda, california                      910\n",
       "san rafael, california                   755\n",
       "hayward, california                      747\n",
       "emeryville, california                   738\n",
       "redwood city, california                 693\n",
       "daly city, california                    681\n",
       "san leandro, california                  651\n",
       "walnut creek, california                 644\n",
       "vallejo, california                      558\n",
       "menlo park, california                   479\n",
       "richmond, california                     424\n",
       "south san francisco, california          416\n",
       "mountain view, california                384\n",
       "novato, california                       369\n",
       "burlingame, california                   361\n",
       "pleasant hill, california                347\n",
       "castro valley, california                345\n",
       "stanford, california                     341\n",
       "el cerrito, california                   325\n",
       "pacifica, california                     323\n",
       "martinez, california                     316\n",
       "mill valley, california                  315\n",
       "san bruno, california                    290\n",
       "san pablo, california                    245\n",
       "belmont, california                      243\n",
       "albany, california                       233\n",
       "san carlos, california                   227\n",
       "benicia, california                      203\n",
       "lafayette, california                    180\n",
       "sausalito, california                    179\n",
       "millbrae, california                     155\n",
       "san anselmo, california                  147\n",
       "el sobrante, california                  137\n",
       "san lorenzo, california                  135\n",
       "fairfax, california                      121\n",
       "hercules, california                     117\n",
       "pinole, california                       104\n",
       "half moon bay, california                 99\n",
       "fremont, california                       90\n",
       "green brae, california                    87\n",
       "orinda, california                        85\n",
       "moraga, california                        84\n",
       "larkspur, california                      80\n",
       "corte madera, california                  76\n",
       "belvedere tiburon, california             57\n",
       "atherton, california                      45\n",
       "brisbane, california                      38\n",
       "rodeo, california                         37\n",
       "crockett, california                      32\n",
       "el granada, california                    27\n",
       "foster city, california                   24\n",
       "kentfield, california                     18\n",
       "woodacre, california                      16\n",
       "east palo alto, california                13\n",
       "ross, california                          12\n",
       "montara, california                       12\n",
       "piedmont, california                      12\n",
       "westlake, california                      11\n",
       "woodside, california                      11\n",
       "lagunitas, california                     10\n",
       "new york, new york                        10\n",
       "los angeles, california                   10\n",
       "san geronimo, california                   9\n",
       "moss beach, california                     8\n",
       "point richmond, california                 8\n",
       "bolinas, california                        8\n",
       "west oakland, california                   7\n",
       "colma, california                          7\n",
       "san diego, california                      6\n",
       "chicago, illinois                          6\n",
       "tiburon, california                        5\n",
       "santa cruz, california                     5\n",
       "hillsborough, california                   4\n",
       "portland, oregon                           4\n",
       "stinson beach, california                  4\n",
       "santa monica, california                   3\n",
       "brooklyn, new york                         3\n",
       "nicasio, california                        3\n",
       "bayshore, california                       3\n",
       "washington, district of columbia           2\n",
       "los gatos, california                      2\n",
       "boston, massachusetts                      2\n",
       "forest knolls, california                  2\n",
       "napa, california                           2\n",
       "redwood shores, california                 2\n",
       "kensington, california                     2\n",
       "irvine, california                         2\n",
       "petaluma, california                       2\n",
       "san jose, california                       2\n",
       "minneapolis, minnesota                     2\n",
       "woodbridge, virginia                       2\n",
       "sacramento, california                     2\n",
       "tucson, arizona                            2\n",
       "atlanta, georgia                           2\n",
       "salt lake city, utah                       2\n",
       "madrid, spain                              2\n",
       "santa rosa, california                     2\n",
       "san quentin, california                    2\n",
       "hilarita, california                       1\n",
       "vancouver, british columbia, canada        1\n",
       "fayetteville, west virginia                1\n",
       "waterford, california                      1\n",
       "granite bay, california                    1\n",
       "isla vista, california                     1\n",
       "kula, hawaii                               1\n",
       "marin city, california                     1\n",
       "stockton, california                       1\n",
       "campbell, california                       1\n",
       "providence, rhode island                   1\n",
       "nevada city, california                    1\n",
       "north hollywood, california                1\n",
       "stratford, connecticut                     1\n",
       "santa ana, california                      1\n",
       "murfreesboro, tennessee                    1\n",
       "muir beach, california                     1\n",
       "long beach, new york                       1\n",
       "pacheco, california                        1\n",
       "kansas city, missouri                      1\n",
       "phoenix, arizona                           1\n",
       "cincinnati, ohio                           1\n",
       "seattle, washington                        1\n",
       "denver, colorado                           1\n",
       "long beach, california                     1\n",
       "miami, florida                             1\n",
       "vacaville, california                      1\n",
       "south lake tahoe, california               1\n",
       "chico, california                          1\n",
       "columbus, ohio                             1\n",
       "oakley, california                         1\n",
       "guadalajara, mexico                        1\n",
       "costa mesa, california                     1\n",
       "bonaduz, switzerland                       1\n",
       "modesto, california                        1\n",
       "san luis obispo, california                1\n",
       "austin, texas                              1\n",
       "taunton, massachusetts                     1\n",
       "amsterdam, netherlands                     1\n",
       "oceanview, california                      1\n",
       "philadelphia, pennsylvania                 1\n",
       "canyon, california                         1\n",
       "kassel, germany                            1\n",
       "longwood, florida                          1\n",
       "riverside, california                      1\n",
       "crowley, texas                             1\n",
       "nha trang, vietnam                         1\n",
       "grand rapids, michigan                     1\n",
       "concord, california                        1\n",
       "studio city, california                    1\n",
       "santa clara, california                    1\n",
       "brea, california                           1\n",
       "utica, michigan                            1\n",
       "new orleans, louisiana                     1\n",
       "cork, ireland                              1\n",
       "union city, california                     1\n",
       "olema, california                          1\n",
       "boulder, colorado                          1\n",
       "leander, texas                             1\n",
       "freedom, california                        1\n",
       "bellwood, illinois                         1\n",
       "peoria, illinois                           1\n",
       "las vegas, nevada                          1\n",
       "glencove, california                       1\n",
       "milwaukee, wisconsin                       1\n",
       "billings, montana                          1\n",
       "honolulu, hawaii                           1\n",
       "canyon country, california                 1\n",
       "hacienda heights, california               1\n",
       "seaside, california                        1\n",
       "edinburgh, united kingdom                  1\n",
       "bellingham, washington                     1\n",
       "jackson, mississippi                       1\n",
       "livingston, california                     1\n",
       "port costa, california                     1\n",
       "san antonio, texas                         1\n",
       "milpitas, california                       1\n",
       "arcadia, california                        1\n",
       "pasadena, california                       1\n",
       "rohnert park, california                   1\n",
       "fort lauderdale, florida                   1\n",
       "south orange, new jersey                   1\n",
       "ashland, california                        1\n",
       "ozone park, new york                       1\n",
       "magalia, california                        1\n",
       "lake orion, michigan                       1\n",
       "cambridge, massachusetts                   1\n",
       "sunnyvale, california                      1\n",
       "islip terrace, new york                    1\n",
       "boise, idaho                               1\n",
       "asheville, north carolina                  1\n",
       "south wellfleet, massachusetts             1\n",
       "orange, california                         1\n",
       "astoria, new york                          1\n",
       "london, united kingdom                     1\n",
       "rochester, michigan                        1\n",
       "Name: location, dtype: int64"
      ]
     },
     "execution_count": 36,
     "metadata": {},
     "output_type": "execute_result"
    }
   ],
   "source": [
    "profiles_df['location'].value_counts()"
   ]
  },
  {
   "cell_type": "code",
   "execution_count": 37,
   "metadata": {
    "ExecuteTime": {
     "end_time": "2022-07-26T14:15:27.843772Z",
     "start_time": "2022-07-26T14:15:27.735741Z"
    },
    "scrolled": true
   },
   "outputs": [
    {
     "data": {
      "text/plain": [
       " california              59855\n",
       " new york                   17\n",
       " illinois                    8\n",
       " massachusetts               5\n",
       " texas                       4\n",
       " oregon                      4\n",
       " michigan                    4\n",
       " arizona                     3\n",
       " florida                     3\n",
       " district of columbia        2\n",
       " washington                  2\n",
       " utah                        2\n",
       " georgia                     2\n",
       " minnesota                   2\n",
       " colorado                    2\n",
       " united kingdom              2\n",
       " ohio                        2\n",
       " spain                       2\n",
       " virginia                    2\n",
       " hawaii                      2\n",
       " louisiana                   1\n",
       " tennessee                   1\n",
       " mexico                      1\n",
       " switzerland                 1\n",
       " netherlands                 1\n",
       " pennsylvania                1\n",
       " germany                     1\n",
       " missouri                    1\n",
       " british columbia            1\n",
       " rhode island                1\n",
       " connecticut                 1\n",
       " ireland                     1\n",
       " west virginia               1\n",
       " montana                     1\n",
       " wisconsin                   1\n",
       " nevada                      1\n",
       " new jersey                  1\n",
       " mississippi                 1\n",
       " vietnam                     1\n",
       " north carolina              1\n",
       " idaho                       1\n",
       "Name: location_cleaned, dtype: int64"
      ]
     },
     "execution_count": 37,
     "metadata": {},
     "output_type": "execute_result"
    }
   ],
   "source": [
    "# Split the text with the comma and extract the first position text\n",
    "profiles_df['location_cleaned'] = profiles_df.location.str.split(',').str.get(1)\n",
    "profiles_df['location_cleaned'].value_counts()"
   ]
  },
  {
   "cell_type": "markdown",
   "metadata": {},
   "source": [
    "- Most of the users reside in California."
   ]
  },
  {
   "cell_type": "markdown",
   "metadata": {},
   "source": [
    "#### Pets"
   ]
  },
  {
   "cell_type": "code",
   "execution_count": 38,
   "metadata": {
    "ExecuteTime": {
     "end_time": "2022-07-26T14:15:27.859770Z",
     "start_time": "2022-07-26T14:15:27.845776Z"
    }
   },
   "outputs": [
    {
     "data": {
      "text/plain": [
       "likes dogs and likes cats          14814\n",
       "likes dogs                          7224\n",
       "likes dogs and has cats             4313\n",
       "has dogs                            4134\n",
       "has dogs and likes cats             2333\n",
       "likes dogs and dislikes cats        2029\n",
       "has dogs and has cats               1474\n",
       "has cats                            1406\n",
       "likes cats                          1063\n",
       "has dogs and dislikes cats           552\n",
       "dislikes dogs and likes cats         240\n",
       "dislikes dogs and dislikes cats      196\n",
       "dislikes cats                        122\n",
       "dislikes dogs and has cats            81\n",
       "dislikes dogs                         44\n",
       "Name: pets, dtype: int64"
      ]
     },
     "execution_count": 38,
     "metadata": {},
     "output_type": "execute_result"
    }
   ],
   "source": [
    "profiles_df['pets'].value_counts()"
   ]
  },
  {
   "cell_type": "code",
   "execution_count": 39,
   "metadata": {
    "ExecuteTime": {
     "end_time": "2022-07-26T14:15:28.035822Z",
     "start_time": "2022-07-26T14:15:27.861770Z"
    }
   },
   "outputs": [
    {
     "data": {
      "image/png": "[encoded data removed]",
      "text/plain": [
       "<Figure size 720x360 with 1 Axes>"
      ]
     },
     "metadata": {
      "needs_background": "light"
     },
     "output_type": "display_data"
    }
   ],
   "source": [
    "# Plot pets preference countplot\n",
    "plot_countplot(profiles_df, 'pets', 'Pets Peference', None)"
   ]
  },
  {
   "cell_type": "markdown",
   "metadata": {},
   "source": [
    "- Most users like like dogs or has dogs."
   ]
  },
  {
   "cell_type": "markdown",
   "metadata": {},
   "source": [
    "#### Ethnicity"
   ]
  },
  {
   "cell_type": "code",
   "execution_count": 40,
   "metadata": {
    "ExecuteTime": {
     "end_time": "2022-07-26T14:15:28.051814Z",
     "start_time": "2022-07-26T14:15:28.037809Z"
    }
   },
   "outputs": [
    {
     "data": {
      "text/plain": [
       "white                                                                                                      32831\n",
       "asian                                                                                                       6134\n",
       "hispanic / latin                                                                                            2823\n",
       "black                                                                                                       2008\n",
       "other                                                                                                       1706\n",
       "hispanic / latin, white                                                                                     1301\n",
       "indian                                                                                                      1077\n",
       "asian, white                                                                                                 811\n",
       "white, other                                                                                                 641\n",
       "pacific islander                                                                                             432\n",
       "asian, pacific islander                                                                                      395\n",
       "native american, white                                                                                       338\n",
       "middle eastern                                                                                               329\n",
       "middle eastern, white                                                                                        300\n",
       "black, white                                                                                                 298\n",
       "pacific islander, white                                                                                      156\n",
       "hispanic / latin, other                                                                                      138\n",
       "black, other                                                                                                 133\n",
       "black, hispanic / latin                                                                                      119\n",
       "hispanic / latin, white, other                                                                               117\n",
       "black, native american, white                                                                                110\n",
       "black, native american                                                                                       100\n",
       "asian, other                                                                                                  95\n",
       "asian, hispanic / latin                                                                                       88\n",
       "native american, hispanic / latin, white                                                                      87\n",
       "native american, hispanic / latin                                                                             73\n",
       "asian, white, other                                                                                           69\n",
       "native american                                                                                               67\n",
       "asian, middle eastern, black, native american, indian, pacific islander, hispanic / latin, white, other       66\n",
       "asian, black                                                                                                  59\n",
       "pacific islander, hispanic / latin                                                                            57\n",
       "asian, pacific islander, white                                                                                55\n",
       "native american, white, other                                                                                 54\n",
       "asian, indian                                                                                                 52\n",
       "black, white, other                                                                                           49\n",
       "indian, white                                                                                                 46\n",
       "asian, hispanic / latin, white                                                                                42\n",
       "middle eastern, white, other                                                                                  40\n",
       "middle eastern, hispanic / latin                                                                              39\n",
       "asian, pacific islander, other                                                                                38\n",
       "black, hispanic / latin, white                                                                                36\n",
       "native american, hispanic / latin, white, other                                                               33\n",
       "indian, other                                                                                                 30\n",
       "pacific islander, hispanic / latin, white                                                                     30\n",
       "black, native american, white, other                                                                          29\n",
       "black, native american, other                                                                                 27\n",
       "black, native american, hispanic / latin, white                                                               26\n",
       "middle eastern, other                                                                                         23\n",
       "black, native american, hispanic / latin                                                                      19\n",
       "pacific islander, white, other                                                                                18\n",
       "asian, native american, white                                                                                 18\n",
       "black, indian                                                                                                 17\n",
       "native american, other                                                                                        16\n",
       "black, pacific islander                                                                                       15\n",
       "asian, black, white                                                                                           15\n",
       "indian, white, other                                                                                          14\n",
       "pacific islander, other                                                                                       14\n",
       "native american, hispanic / latin, other                                                                      13\n",
       "black, hispanic / latin, other                                                                                13\n",
       "asian, pacific islander, hispanic / latin                                                                     13\n",
       "asian, middle eastern                                                                                         12\n",
       "indian, pacific islander                                                                                      12\n",
       "middle eastern, hispanic / latin, white                                                                       12\n",
       "middle eastern, indian                                                                                        11\n",
       "asian, pacific islander, hispanic / latin, white                                                              11\n",
       "asian, pacific islander, white, other                                                                         10\n",
       "black, native american, hispanic / latin, white, other                                                        10\n",
       "asian, black, other                                                                                            9\n",
       "asian, hispanic / latin, white, other                                                                          9\n",
       "asian, hispanic / latin, other                                                                                 9\n",
       "asian, middle eastern, white                                                                                   9\n",
       "asian, black, native american                                                                                  9\n",
       "asian, middle eastern, black, native american, indian, pacific islander, hispanic / latin, white               9\n",
       "indian, hispanic / latin                                                                                       8\n",
       "middle eastern, native american, white                                                                         8\n",
       "asian, black, native american, white                                                                           8\n",
       "native american, pacific islander, white                                                                       7\n",
       "asian, native american, hispanic / latin, white                                                                7\n",
       "black, indian, white                                                                                           6\n",
       "middle eastern, black                                                                                          6\n",
       "asian, middle eastern, white, other                                                                            6\n",
       "asian, black, pacific islander                                                                                 6\n",
       "asian, indian, pacific islander                                                                                6\n",
       "black, hispanic / latin, white, other                                                                          5\n",
       "asian, native american, hispanic / latin                                                                       5\n",
       "asian, indian, other                                                                                           5\n",
       "native american, pacific islander, hispanic / latin, white                                                     5\n",
       "black, native american, hispanic / latin, other                                                                5\n",
       "pacific islander, hispanic / latin, other                                                                      5\n",
       "asian, native american, white, other                                                                           5\n",
       "pacific islander, hispanic / latin, white, other                                                               5\n",
       "asian, indian, white                                                                                           5\n",
       "asian, middle eastern, indian                                                                                  5\n",
       "native american, pacific islander, hispanic / latin                                                            5\n",
       "asian, pacific islander, hispanic / latin, white, other                                                        5\n",
       "black, pacific islander, hispanic / latin                                                                      5\n",
       "black, indian, white, other                                                                                    4\n",
       "middle eastern, hispanic / latin, other                                                                        4\n",
       "middle eastern, indian, other                                                                                  4\n",
       "asian, native american, pacific islander, hispanic / latin, white                                              4\n",
       "asian, native american, hispanic / latin, white, other                                                         4\n",
       "black, pacific islander, other                                                                                 4\n",
       "asian, black, pacific islander, hispanic / latin                                                               4\n",
       "black, pacific islander, white                                                                                 4\n",
       "indian, hispanic / latin, other                                                                                4\n",
       "middle eastern, native american, hispanic / latin                                                              3\n",
       "native american, pacific islander, hispanic / latin, white, other                                              3\n",
       "black, native american, indian, other                                                                          3\n",
       "asian, native american                                                                                         3\n",
       "black, indian, other                                                                                           3\n",
       "black, indian, hispanic / latin                                                                                3\n",
       "asian, indian, pacific islander, other                                                                         3\n",
       "middle eastern, pacific islander, other                                                                        3\n",
       "asian, black, native american, pacific islander, white                                                         3\n",
       "asian, middle eastern, indian, other                                                                           3\n",
       "black, indian, hispanic / latin, white                                                                         2\n",
       "asian, pacific islander, hispanic / latin, other                                                               2\n",
       "black, native american, pacific islander, white                                                                2\n",
       "indian, hispanic / latin, white                                                                                2\n",
       "asian, black, native american, pacific islander                                                                2\n",
       "asian, indian, hispanic / latin                                                                                2\n",
       "asian, black, hispanic / latin                                                                                 2\n",
       "asian, middle eastern, hispanic / latin, white                                                                 2\n",
       "middle eastern, indian, white, other                                                                           2\n",
       "middle eastern, native american, hispanic / latin, white                                                       2\n",
       "indian, hispanic / latin, white, other                                                                         2\n",
       "asian, middle eastern, black, indian, pacific islander, hispanic / latin, white                                2\n",
       "black, native american, pacific islander, hispanic / latin, white                                              2\n",
       "asian, black, pacific islander, white                                                                          2\n",
       "black, native american, indian, white, other                                                                   2\n",
       "asian, black, hispanic / latin, white                                                                          2\n",
       "asian, native american, pacific islander                                                                       2\n",
       "asian, native american, pacific islander, white                                                                2\n",
       "asian, native american, other                                                                                  2\n",
       "asian, middle eastern, native american, indian, pacific islander, hispanic / latin, white                      2\n",
       "asian, black, native american, white, other                                                                    2\n",
       "asian, native american, pacific islander, white, other                                                         2\n",
       "middle eastern, black, native american, white                                                                  2\n",
       "asian, black, hispanic / latin, other                                                                          2\n",
       "asian, middle eastern, black                                                                                   2\n",
       "asian, black, native american, hispanic / latin, white                                                         2\n",
       "native american, pacific islander                                                                              2\n",
       "middle eastern, black, native american, indian, white, other                                                   2\n",
       "black, native american, pacific islander                                                                       2\n",
       "native american, indian                                                                                        2\n",
       "middle eastern, black, white                                                                                   2\n",
       "middle eastern, hispanic / latin, white, other                                                                 2\n",
       "asian, black, native american, other                                                                           2\n",
       "middle eastern, native american, hispanic / latin, white, other                                                2\n",
       "asian, middle eastern, black, pacific islander, hispanic / latin, white                                        2\n",
       "black, native american, pacific islander, hispanic / latin, white, other                                       2\n",
       "asian, middle eastern, black, native american, pacific islander, hispanic / latin, white, other                2\n",
       "native american, pacific islander, white, other                                                                2\n",
       "asian, black, native american, hispanic / latin                                                                2\n",
       "asian, indian, white, other                                                                                    2\n",
       "asian, middle eastern, black, native american, indian, pacific islander, hispanic / latin, other               2\n",
       "asian, native american, pacific islander, hispanic / latin, white, other                                       1\n",
       "asian, black, native american, indian                                                                          1\n",
       "asian, black, native american, indian, pacific islander, white                                                 1\n",
       "asian, black, native american, indian, pacific islander, hispanic / latin                                      1\n",
       "asian, middle eastern, hispanic / latin, white, other                                                          1\n",
       "middle eastern, black, native american, indian                                                                 1\n",
       "asian, black, native american, pacific islander, white, other                                                  1\n",
       "asian, middle eastern, hispanic / latin                                                                        1\n",
       "asian, black, pacific islander, other                                                                          1\n",
       "asian, native american, indian, pacific islander, hispanic / latin, white                                      1\n",
       "middle eastern, native american, white, other                                                                  1\n",
       "asian, native american, hispanic / latin, other                                                                1\n",
       "native american, indian, white                                                                                 1\n",
       "black, native american, pacific islander, hispanic / latin                                                     1\n",
       "asian, middle eastern, black, native american, indian, pacific islander, white                                 1\n",
       "black, native american, indian                                                                                 1\n",
       "indian, pacific islander, hispanic / latin, white                                                              1\n",
       "asian, middle eastern, black, native american, indian, pacific islander, hispanic / latin                      1\n",
       "asian, middle eastern, indian, hispanic / latin                                                                1\n",
       "asian, middle eastern, native american, pacific islander, other                                                1\n",
       "black, native american, indian, pacific islander                                                               1\n",
       "asian, middle eastern, native american, pacific islander, white, other                                         1\n",
       "asian, black, native american, pacific islander, other                                                         1\n",
       "middle eastern, black, other                                                                                   1\n",
       "asian, black, pacific islander, hispanic / latin, white                                                        1\n",
       "middle eastern, black, native american, white, other                                                           1\n",
       "asian, native american, indian, pacific islander, hispanic / latin, white, other                               1\n",
       "asian, middle eastern, black, pacific islander, hispanic / latin                                               1\n",
       "asian, black, pacific islander, white, other                                                                   1\n",
       "middle eastern, black, native american, indian, pacific islander, hispanic / latin, white, other               1\n",
       "middle eastern, pacific islander, hispanic / latin                                                             1\n",
       "asian, black, hispanic / latin, white, other                                                                   1\n",
       "asian, black, indian, hispanic / latin, other                                                                  1\n",
       "middle eastern, pacific islander                                                                               1\n",
       "middle eastern, black, native american, hispanic / latin, white                                                1\n",
       "asian, middle eastern, other                                                                                   1\n",
       "middle eastern, black, native american, indian, pacific islander, hispanic / latin, white                      1\n",
       "asian, middle eastern, black, native american, hispanic / latin, white                                         1\n",
       "asian, indian, hispanic / latin, other                                                                         1\n",
       "middle eastern, native american                                                                                1\n",
       "asian, indian, pacific islander, hispanic / latin, white, other                                                1\n",
       "asian, middle eastern, native american, hispanic / latin, white                                                1\n",
       "middle eastern, black, hispanic / latin                                                                        1\n",
       "asian, indian, hispanic / latin, white                                                                         1\n",
       "black, native american, indian, hispanic / latin, white, other                                                 1\n",
       "asian, black, native american, indian, hispanic / latin, white, other                                          1\n",
       "black, native american, pacific islander, white, other                                                         1\n",
       "native american, indian, pacific islander, hispanic / latin                                                    1\n",
       "asian, middle eastern, native american, pacific islander, hispanic / latin, white, other                       1\n",
       "middle eastern, black, native american, indian, hispanic / latin, white                                        1\n",
       "middle eastern, black, indian, pacific islander, hispanic / latin, white                                       1\n",
       "asian, black, white, other                                                                                     1\n",
       "black, native american, indian, white                                                                          1\n",
       "black, native american, pacific islander, other                                                                1\n",
       "asian, middle eastern, black, pacific islander                                                                 1\n",
       "middle eastern, black, pacific islander, white                                                                 1\n",
       "middle eastern, indian, white                                                                                  1\n",
       "asian, middle eastern, black, white, other                                                                     1\n",
       "asian, middle eastern, indian, hispanic / latin, white, other                                                  1\n",
       "black, native american, indian, pacific islander, hispanic / latin                                             1\n",
       "asian, black, indian                                                                                           1\n",
       "Name: ethnicity, dtype: int64"
      ]
     },
     "execution_count": 40,
     "metadata": {},
     "output_type": "execute_result"
    }
   ],
   "source": [
    "profiles_df['ethnicity'].value_counts()"
   ]
  },
  {
   "cell_type": "code",
   "execution_count": 41,
   "metadata": {
    "ExecuteTime": {
     "end_time": "2022-07-26T14:15:28.211857Z",
     "start_time": "2022-07-26T14:15:28.053814Z"
    }
   },
   "outputs": [
    {
     "data": {
      "text/plain": [
       "white               33472\n",
       "asian                8205\n",
       "hispanic / latin     4379\n",
       "black                3071\n",
       "other                1706\n",
       "indian               1196\n",
       "middle eastern        811\n",
       "pacific islander      717\n",
       "native american       709\n",
       "Name: ethnicity_cleaned, dtype: int64"
      ]
     },
     "execution_count": 41,
     "metadata": {},
     "output_type": "execute_result"
    }
   ],
   "source": [
    "# Split the text with the comma and extract the first position text\n",
    "profiles_df['ethnicity_cleaned'] = profiles_df.ethnicity.str.split(',').str.get(0)\n",
    "profiles_df['ethnicity_cleaned'].value_counts()"
   ]
  },
  {
   "cell_type": "code",
   "execution_count": 42,
   "metadata": {
    "ExecuteTime": {
     "end_time": "2022-07-26T14:15:28.369902Z",
     "start_time": "2022-07-26T14:15:28.213849Z"
    }
   },
   "outputs": [
    {
     "data": {
      "image/png": "[encoded data removed]",
      "text/plain": [
       "<Figure size 720x360 with 1 Axes>"
      ]
     },
     "metadata": {
      "needs_background": "light"
     },
     "output_type": "display_data"
    }
   ],
   "source": [
    "# Plot ethnicity countplot\n",
    "plot_countplot(profiles_df, 'ethnicity_cleaned', 'Ethnicity', None)"
   ]
  },
  {
   "cell_type": "markdown",
   "metadata": {},
   "source": [
    "- Majority of the users are white."
   ]
  },
  {
   "cell_type": "markdown",
   "metadata": {},
   "source": [
    "#### Vices"
   ]
  },
  {
   "cell_type": "markdown",
   "metadata": {},
   "source": [
    "Vices include drinking, smoking and drug consumption."
   ]
  },
  {
   "cell_type": "markdown",
   "metadata": {},
   "source": [
    "##### Alcohol consumption"
   ]
  },
  {
   "cell_type": "code",
   "execution_count": 43,
   "metadata": {
    "ExecuteTime": {
     "end_time": "2022-07-26T14:15:28.545923Z",
     "start_time": "2022-07-26T14:15:28.372898Z"
    },
    "run_control": {
     "marked": false
    }
   },
   "outputs": [
    {
     "data": {
      "image/png": "[encoded data removed]",
      "text/plain": [
       "<Figure size 720x360 with 1 Axes>"
      ]
     },
     "metadata": {
      "needs_background": "light"
     },
     "output_type": "display_data"
    }
   ],
   "source": [
    "# Plot alcohol consumption countplot\n",
    "plot_countplot(profiles_df, 'drinks', 'Alcohol Consumption', 'Drink', 'sex')"
   ]
  },
  {
   "cell_type": "markdown",
   "metadata": {},
   "source": [
    "- Most users drinks while socializing. Male has a higher tendency to drink."
   ]
  },
  {
   "cell_type": "markdown",
   "metadata": {},
   "source": [
    "##### Smoke consumption"
   ]
  },
  {
   "cell_type": "code",
   "execution_count": 44,
   "metadata": {
    "ExecuteTime": {
     "end_time": "2022-07-26T14:15:28.705980Z",
     "start_time": "2022-07-26T14:15:28.548922Z"
    }
   },
   "outputs": [
    {
     "data": {
      "image/png": "[encoded data removed]",
      "text/plain": [
       "<Figure size 720x360 with 1 Axes>"
      ]
     },
     "metadata": {
      "needs_background": "light"
     },
     "output_type": "display_data"
    }
   ],
   "source": [
    "# Plot smoking countplot\n",
    "plot_countplot(profiles_df, 'smokes', 'Smoking Consumption', None, 'sex')"
   ]
  },
  {
   "cell_type": "markdown",
   "metadata": {},
   "source": [
    "- Most users do not smoke.\n",
    "- For smokers, there are more males than females."
   ]
  },
  {
   "cell_type": "markdown",
   "metadata": {},
   "source": [
    "##### Drug Usage"
   ]
  },
  {
   "cell_type": "code",
   "execution_count": 45,
   "metadata": {
    "ExecuteTime": {
     "end_time": "2022-07-26T14:15:29.248122Z",
     "start_time": "2022-07-26T14:15:29.118053Z"
    },
    "run_control": {
     "marked": false
    }
   },
   "outputs": [
    {
     "data": {
      "image/png": "[encoded data removed]",
      "text/plain": [
       "<Figure size 720x360 with 1 Axes>"
      ]
     },
     "metadata": {
      "needs_background": "light"
     },
     "output_type": "display_data"
    }
   ],
   "source": [
    "# Plot drug usage countplot\n",
    "plot_countplot(profiles_df, 'drugs', 'Drug Usage', None, 'sex')"
   ]
  },
  {
   "cell_type": "markdown",
   "metadata": {},
   "source": [
    "- Most users do not consume drugs.\n",
    "- For those who use drugs, there are more males than females."
   ]
  },
  {
   "cell_type": "markdown",
   "metadata": {},
   "source": [
    "##### Education vs Vices"
   ]
  },
  {
   "cell_type": "code",
   "execution_count": 46,
   "metadata": {
    "ExecuteTime": {
     "end_time": "2022-07-26T14:15:29.964286Z",
     "start_time": "2022-07-26T14:15:29.707212Z"
    }
   },
   "outputs": [
    {
     "data": {
      "image/png": "[encoded data removed]",
      "text/plain": [
       "<Figure size 720x360 with 1 Axes>"
      ]
     },
     "metadata": {
      "needs_background": "light"
     },
     "output_type": "display_data"
    }
   ],
   "source": [
    "# Check education vs drinking\n",
    "plot_countplot(profiles_df, 'education_cleaned', 'Education vs Drinking', None, 'drinks')"
   ]
  },
  {
   "cell_type": "code",
   "execution_count": 47,
   "metadata": {
    "ExecuteTime": {
     "end_time": "2022-07-26T14:15:30.188322Z",
     "start_time": "2022-07-26T14:15:29.967275Z"
    }
   },
   "outputs": [
    {
     "data": {
      "image/png": "[encoded data removed]",
      "text/plain": [
       "<Figure size 720x360 with 1 Axes>"
      ]
     },
     "metadata": {
      "needs_background": "light"
     },
     "output_type": "display_data"
    }
   ],
   "source": [
    "# Check education vs smoking consumption\n",
    "plot_countplot(profiles_df, 'education_cleaned', 'Education vs Smoking', None, 'smokes')"
   ]
  },
  {
   "cell_type": "code",
   "execution_count": 48,
   "metadata": {
    "ExecuteTime": {
     "end_time": "2022-07-26T14:15:30.394373Z",
     "start_time": "2022-07-26T14:15:30.190324Z"
    }
   },
   "outputs": [
    {
     "data": {
      "image/png": "[encoded data removed]",
      "text/plain": [
       "<Figure size 720x360 with 1 Axes>"
      ]
     },
     "metadata": {
      "needs_background": "light"
     },
     "output_type": "display_data"
    }
   ],
   "source": [
    "# Check education vs drug usage\n",
    "plot_countplot(profiles_df, 'education_cleaned', 'Education vs Drug Usage', None, 'drugs')"
   ]
  },
  {
   "cell_type": "markdown",
   "metadata": {},
   "source": [
    "- From the above visualizations, users with a college/university education is more prone to vices. This make sense as most of the users are graduated from college/university."
   ]
  },
  {
   "cell_type": "markdown",
   "metadata": {},
   "source": [
    "##### Religion vs Vices"
   ]
  },
  {
   "cell_type": "code",
   "execution_count": 49,
   "metadata": {
    "ExecuteTime": {
     "end_time": "2022-07-26T14:15:30.790469Z",
     "start_time": "2022-07-26T14:15:30.396370Z"
    }
   },
   "outputs": [
    {
     "data": {
      "image/png": "[encoded data removed]",
      "text/plain": [
       "<Figure size 720x360 with 1 Axes>"
      ]
     },
     "metadata": {
      "needs_background": "light"
     },
     "output_type": "display_data"
    }
   ],
   "source": [
    "# Check religion vs drinking\n",
    "plot_countplot(profiles_df, 'religion_cleaned', 'Religion vs Drinking', None, 'drinks')"
   ]
  },
  {
   "cell_type": "code",
   "execution_count": 50,
   "metadata": {
    "ExecuteTime": {
     "end_time": "2022-07-26T14:15:31.072527Z",
     "start_time": "2022-07-26T14:15:30.792472Z"
    }
   },
   "outputs": [
    {
     "data": {
      "image/png": "[encoded data removed]",
      "text/plain": [
       "<Figure size 720x360 with 1 Axes>"
      ]
     },
     "metadata": {
      "needs_background": "light"
     },
     "output_type": "display_data"
    }
   ],
   "source": [
    "# Check religion vs smoking consumption\n",
    "plot_countplot(profiles_df, 'religion_cleaned', 'Religion vs Smoking', None, 'smokes')"
   ]
  },
  {
   "cell_type": "code",
   "execution_count": 51,
   "metadata": {
    "ExecuteTime": {
     "end_time": "2022-07-26T14:15:31.289718Z",
     "start_time": "2022-07-26T14:15:31.074539Z"
    }
   },
   "outputs": [
    {
     "data": {
      "image/png": "[encoded data removed]",
      "text/plain": [
       "<Figure size 720x360 with 1 Axes>"
      ]
     },
     "metadata": {
      "needs_background": "light"
     },
     "output_type": "display_data"
    }
   ],
   "source": [
    "# Check religion vs drug usage\n",
    "plot_countplot(profiles_df, 'religion_cleaned', 'Religion vs Drug Usage', None, 'drugs')"
   ]
  },
  {
   "cell_type": "markdown",
   "metadata": {},
   "source": [
    "- From the above visualizations, we do not observe any religion group that is more prone to vices."
   ]
  },
  {
   "cell_type": "markdown",
   "metadata": {},
   "source": [
    "##### Astrological Symbol vs Vices"
   ]
  },
  {
   "cell_type": "code",
   "execution_count": 52,
   "metadata": {
    "ExecuteTime": {
     "end_time": "2022-07-26T14:15:31.638797Z",
     "start_time": "2022-07-26T14:15:31.292711Z"
    }
   },
   "outputs": [
    {
     "data": {
      "image/png": "[encoded data removed]",
      "text/plain": [
       "<Figure size 720x360 with 1 Axes>"
      ]
     },
     "metadata": {
      "needs_background": "light"
     },
     "output_type": "display_data"
    }
   ],
   "source": [
    "# Check astrological symbol vs drinking\n",
    "plot_countplot(profiles_df, 'sign_cleaned', 'Astrological Symbol vs Drinking', None, 'drinks')"
   ]
  },
  {
   "cell_type": "code",
   "execution_count": 53,
   "metadata": {
    "ExecuteTime": {
     "end_time": "2022-07-26T14:15:31.970850Z",
     "start_time": "2022-07-26T14:15:31.640785Z"
    }
   },
   "outputs": [
    {
     "data": {
      "image/png": "[encoded data removed]",
      "text/plain": [
       "<Figure size 720x360 with 1 Axes>"
      ]
     },
     "metadata": {
      "needs_background": "light"
     },
     "output_type": "display_data"
    }
   ],
   "source": [
    "# Check astrological symbol vs smoking\n",
    "plot_countplot(profiles_df, 'sign_cleaned', 'Astrological Symbol vs Smoking', None, 'smokes')"
   ]
  },
  {
   "cell_type": "code",
   "execution_count": 54,
   "metadata": {
    "ExecuteTime": {
     "end_time": "2022-07-26T14:15:32.257290Z",
     "start_time": "2022-07-26T14:15:31.972852Z"
    },
    "scrolled": true
   },
   "outputs": [
    {
     "data": {
      "image/png": "[encoded data removed]",
      "text/plain": [
       "<Figure size 720x360 with 1 Axes>"
      ]
     },
     "metadata": {
      "needs_background": "light"
     },
     "output_type": "display_data"
    }
   ],
   "source": [
    "# Check astrological symbol vs drugs\n",
    "plot_countplot(profiles_df, 'sign_cleaned', 'Astrological Symbol vs Drug Usage', None, 'drugs')"
   ]
  },
  {
   "cell_type": "markdown",
   "metadata": {},
   "source": [
    "- From the above visualizations, we do not observe any astrological symbol that is more prone to vices."
   ]
  },
  {
   "cell_type": "markdown",
   "metadata": {},
   "source": [
    "## Feature engineering"
   ]
  },
  {
   "cell_type": "markdown",
   "metadata": {},
   "source": [
    "### Create target"
   ]
  },
  {
   "cell_type": "markdown",
   "metadata": {},
   "source": [
    "- We are predicting whether a user smoke or drink or uses drugs. Hence, we will create a new feature 'has vice' as our target.\n",
    "- We will need to drop all the null values for these variables since we cannot have any missing data."
   ]
  },
  {
   "cell_type": "code",
   "execution_count": 55,
   "metadata": {
    "ExecuteTime": {
     "end_time": "2022-07-26T14:15:33.082440Z",
     "start_time": "2022-07-26T14:15:32.741375Z"
    }
   },
   "outputs": [
    {
     "name": "stdout",
     "output_type": "stream",
     "text": [
      "<class 'pandas.core.frame.DataFrame'>\n",
      "Int64Index: 42495 entries, 0 to 59944\n",
      "Data columns (total 38 columns):\n",
      " #   Column             Non-Null Count  Dtype  \n",
      "---  ------             --------------  -----  \n",
      " 0   age                42495 non-null  int64  \n",
      " 1   body_type          39427 non-null  object \n",
      " 2   diet               26067 non-null  object \n",
      " 3   drinks             42495 non-null  object \n",
      " 4   drugs              42495 non-null  object \n",
      " 5   education          38688 non-null  object \n",
      " 6   essay0             38783 non-null  object \n",
      " 7   essay1             37250 non-null  object \n",
      " 8   essay2             35832 non-null  object \n",
      " 9   essay3             34861 non-null  object \n",
      " 10  essay4             35183 non-null  object \n",
      " 11  essay5             35158 non-null  object \n",
      " 12  essay6             32904 non-null  object \n",
      " 13  essay7             34119 non-null  object \n",
      " 14  essay8             29145 non-null  object \n",
      " 15  essay9             33702 non-null  object \n",
      " 16  ethnicity          39209 non-null  object \n",
      " 17  height             42495 non-null  float64\n",
      " 18  income             42495 non-null  int64  \n",
      " 19  job                37987 non-null  object \n",
      " 20  last_online        42495 non-null  object \n",
      " 21  location           42495 non-null  object \n",
      " 22  offspring          18523 non-null  object \n",
      " 23  orientation        42495 non-null  object \n",
      " 24  pets               29421 non-null  object \n",
      " 25  religion           30094 non-null  object \n",
      " 26  sex                42495 non-null  object \n",
      " 27  sign               35570 non-null  object \n",
      " 28  smokes             42495 non-null  object \n",
      " 29  speaks             42472 non-null  object \n",
      " 30  status             42495 non-null  object \n",
      " 31  diet_cleaned       26067 non-null  object \n",
      " 32  education_cleaned  38688 non-null  object \n",
      " 33  religion_cleaned   30094 non-null  object \n",
      " 34  sign_cleaned       35570 non-null  object \n",
      " 35  offspring_cleaned  18359 non-null  object \n",
      " 36  location_cleaned   42495 non-null  object \n",
      " 37  ethnicity_cleaned  39209 non-null  object \n",
      "dtypes: float64(1), int64(2), object(35)\n",
      "memory usage: 12.6+ MB\n"
     ]
    }
   ],
   "source": [
    "# Drop rows with null values for drinks, smokes and drugs columns\n",
    "profiles_df.dropna(subset=['drinks', 'smokes', 'drugs'], inplace=True)\n",
    "profiles_df.info()"
   ]
  },
  {
   "cell_type": "code",
   "execution_count": 56,
   "metadata": {
    "ExecuteTime": {
     "end_time": "2022-07-26T14:15:33.114457Z",
     "start_time": "2022-07-26T14:15:33.085438Z"
    }
   },
   "outputs": [
    {
     "data": {
      "text/plain": [
       "1    39478\n",
       "0     3017\n",
       "Name: is_drinking, dtype: int64"
      ]
     },
     "execution_count": 56,
     "metadata": {},
     "output_type": "execute_result"
    }
   ],
   "source": [
    "# Create a column to define whether the user drinks or not\n",
    "profiles_df['is_drinking'] = profiles_df['drinks'].apply(lambda x: 0 if x == 'not at all' else 1)\n",
    "profiles_df['is_drinking'].value_counts()"
   ]
  },
  {
   "cell_type": "code",
   "execution_count": 57,
   "metadata": {
    "ExecuteTime": {
     "end_time": "2022-07-26T14:15:33.146469Z",
     "start_time": "2022-07-26T14:15:33.117448Z"
    }
   },
   "outputs": [
    {
     "data": {
      "text/plain": [
       "0    34624\n",
       "1     7871\n",
       "Name: is_smoking, dtype: int64"
      ]
     },
     "execution_count": 57,
     "metadata": {},
     "output_type": "execute_result"
    }
   ],
   "source": [
    "# Create a column to define whether the user smokes or not\n",
    "profiles_df['is_smoking'] = profiles_df['smokes'].apply(lambda x: 0 if x == 'no' else 1)\n",
    "profiles_df['is_smoking'].value_counts()"
   ]
  },
  {
   "cell_type": "code",
   "execution_count": 58,
   "metadata": {
    "ExecuteTime": {
     "end_time": "2022-07-26T14:15:33.178459Z",
     "start_time": "2022-07-26T14:15:33.149454Z"
    }
   },
   "outputs": [
    {
     "data": {
      "text/plain": [
       "0    34830\n",
       "1     7665\n",
       "Name: is_drug_user, dtype: int64"
      ]
     },
     "execution_count": 58,
     "metadata": {},
     "output_type": "execute_result"
    }
   ],
   "source": [
    "# Create a column to define whether the user uses drugs or not\n",
    "profiles_df['is_drug_user'] = profiles_df['drugs'].apply(lambda x: 0 if x == 'never' else 1)\n",
    "profiles_df['is_drug_user'].value_counts()"
   ]
  },
  {
   "cell_type": "code",
   "execution_count": 59,
   "metadata": {
    "ExecuteTime": {
     "end_time": "2022-07-26T14:15:33.194479Z",
     "start_time": "2022-07-26T14:15:33.181460Z"
    }
   },
   "outputs": [
    {
     "data": {
      "text/plain": [
       "1    28468\n",
       "2     7897\n",
       "3     3584\n",
       "0     2546\n",
       "Name: num_vices, dtype: int64"
      ]
     },
     "execution_count": 59,
     "metadata": {},
     "output_type": "execute_result"
    }
   ],
   "source": [
    "profiles_df['num_vices'] = profiles_df['is_drinking'] + profiles_df['is_smoking'] + profiles_df['is_drug_user']\n",
    "profiles_df['num_vices'].value_counts()"
   ]
  },
  {
   "cell_type": "code",
   "execution_count": 60,
   "metadata": {
    "ExecuteTime": {
     "end_time": "2022-07-26T14:15:33.226469Z",
     "start_time": "2022-07-26T14:15:33.197462Z"
    }
   },
   "outputs": [
    {
     "data": {
      "text/plain": [
       "1    39949\n",
       "0     2546\n",
       "Name: has_vice, dtype: int64"
      ]
     },
     "execution_count": 60,
     "metadata": {},
     "output_type": "execute_result"
    }
   ],
   "source": [
    "# Create a column to define whether the user has vices or not\n",
    "profiles_df['has_vice'] = profiles_df['num_vices'].apply(lambda x: 0 if x == 0 else 1)\n",
    "profiles_df['has_vice'].value_counts()"
   ]
  },
  {
   "cell_type": "markdown",
   "metadata": {},
   "source": [
    "### Feature selection"
   ]
  },
  {
   "cell_type": "markdown",
   "metadata": {},
   "source": [
    "To predict whether a user smoke, drink or use drug, the below features are selected:\n",
    "- Age\n",
    "- Body type\n",
    "- Height\n",
    "- Diet\n",
    "- Education\n",
    "- Ethnicity\n",
    "- Religion\n",
    "- Sex orientation\n",
    "- Astrological symbol\n",
    "- Sex\n",
    "- Has vices (to create target)\n"
   ]
  },
  {
   "cell_type": "code",
   "execution_count": 61,
   "metadata": {
    "ExecuteTime": {
     "end_time": "2022-07-26T14:15:33.594574Z",
     "start_time": "2022-07-26T14:15:33.536541Z"
    }
   },
   "outputs": [
    {
     "data": {
      "text/html": [
       "<div>\n",
       "<style scoped>\n",
       "    .dataframe tbody tr th:only-of-type {\n",
       "        vertical-align: middle;\n",
       "    }\n",
       "\n",
       "    .dataframe tbody tr th {\n",
       "        vertical-align: top;\n",
       "    }\n",
       "\n",
       "    .dataframe thead th {\n",
       "        text-align: right;\n",
       "    }\n",
       "</style>\n",
       "<table border=\"1\" class=\"dataframe\">\n",
       "  <thead>\n",
       "    <tr style=\"text-align: right;\">\n",
       "      <th></th>\n",
       "      <th>age</th>\n",
       "      <th>body_type</th>\n",
       "      <th>height</th>\n",
       "      <th>orientation</th>\n",
       "      <th>sex</th>\n",
       "      <th>diet_cleaned</th>\n",
       "      <th>education_cleaned</th>\n",
       "      <th>religion_cleaned</th>\n",
       "      <th>sign_cleaned</th>\n",
       "      <th>ethnicity_cleaned</th>\n",
       "      <th>has_vice</th>\n",
       "    </tr>\n",
       "  </thead>\n",
       "  <tbody>\n",
       "    <tr>\n",
       "      <th>0</th>\n",
       "      <td>22</td>\n",
       "      <td>a little extra</td>\n",
       "      <td>75.0</td>\n",
       "      <td>straight</td>\n",
       "      <td>m</td>\n",
       "      <td>anything</td>\n",
       "      <td>college/university</td>\n",
       "      <td>agnosticism</td>\n",
       "      <td>gemini</td>\n",
       "      <td>asian</td>\n",
       "      <td>1</td>\n",
       "    </tr>\n",
       "    <tr>\n",
       "      <th>1</th>\n",
       "      <td>35</td>\n",
       "      <td>average</td>\n",
       "      <td>70.0</td>\n",
       "      <td>straight</td>\n",
       "      <td>m</td>\n",
       "      <td>other</td>\n",
       "      <td>space camp</td>\n",
       "      <td>agnosticism</td>\n",
       "      <td>cancer</td>\n",
       "      <td>white</td>\n",
       "      <td>1</td>\n",
       "    </tr>\n",
       "    <tr>\n",
       "      <th>4</th>\n",
       "      <td>29</td>\n",
       "      <td>athletic</td>\n",
       "      <td>66.0</td>\n",
       "      <td>straight</td>\n",
       "      <td>m</td>\n",
       "      <td>NaN</td>\n",
       "      <td>college/university</td>\n",
       "      <td>NaN</td>\n",
       "      <td>aquarius</td>\n",
       "      <td>asian</td>\n",
       "      <td>1</td>\n",
       "    </tr>\n",
       "    <tr>\n",
       "      <th>7</th>\n",
       "      <td>31</td>\n",
       "      <td>average</td>\n",
       "      <td>65.0</td>\n",
       "      <td>straight</td>\n",
       "      <td>f</td>\n",
       "      <td>anything</td>\n",
       "      <td>college/university</td>\n",
       "      <td>christianity</td>\n",
       "      <td>sagittarius</td>\n",
       "      <td>white</td>\n",
       "      <td>1</td>\n",
       "    </tr>\n",
       "    <tr>\n",
       "      <th>9</th>\n",
       "      <td>37</td>\n",
       "      <td>athletic</td>\n",
       "      <td>65.0</td>\n",
       "      <td>straight</td>\n",
       "      <td>m</td>\n",
       "      <td>anything</td>\n",
       "      <td>two-year college</td>\n",
       "      <td>atheism</td>\n",
       "      <td>cancer</td>\n",
       "      <td>white</td>\n",
       "      <td>0</td>\n",
       "    </tr>\n",
       "  </tbody>\n",
       "</table>\n",
       "</div>"
      ],
      "text/plain": [
       "   age       body_type  height orientation sex diet_cleaned  \\\n",
       "0   22  a little extra    75.0    straight   m     anything   \n",
       "1   35         average    70.0    straight   m        other   \n",
       "4   29        athletic    66.0    straight   m          NaN   \n",
       "7   31         average    65.0    straight   f     anything   \n",
       "9   37        athletic    65.0    straight   m     anything   \n",
       "\n",
       "    education_cleaned religion_cleaned sign_cleaned ethnicity_cleaned  \\\n",
       "0  college/university      agnosticism       gemini             asian   \n",
       "1          space camp      agnosticism       cancer             white   \n",
       "4  college/university              NaN     aquarius             asian   \n",
       "7  college/university     christianity  sagittarius             white   \n",
       "9    two-year college          atheism       cancer             white   \n",
       "\n",
       "   has_vice  \n",
       "0         1  \n",
       "1         1  \n",
       "4         1  \n",
       "7         1  \n",
       "9         0  "
      ]
     },
     "execution_count": 61,
     "metadata": {},
     "output_type": "execute_result"
    }
   ],
   "source": [
    "# Create a new dataframe df and drop the irrelevant columns\n",
    "columns_to_drop = ['diet', 'drinks', 'drugs', 'education', 'essay0', 'essay1', 'essay2', 'essay3', 'essay4', \n",
    "                   'essay5', 'essay6', 'essay7', 'essay8', 'essay9', 'ethnicity', 'income', 'job', 'last_online',\n",
    "                   'location', 'offspring', 'religion', 'sign', 'smokes', 'speaks', 'status', 'pets',\n",
    "                   'offspring_cleaned', 'location_cleaned', 'is_drinking','is_smoking', 'is_drug_user', \n",
    "                   'num_vices']\n",
    "\n",
    "df = profiles_df.copy()\n",
    "df.drop(columns = columns_to_drop, inplace = True)\n",
    "df.head()"
   ]
  },
  {
   "cell_type": "code",
   "execution_count": 62,
   "metadata": {
    "ExecuteTime": {
     "end_time": "2022-07-26T14:15:33.658583Z",
     "start_time": "2022-07-26T14:15:33.598558Z"
    }
   },
   "outputs": [
    {
     "name": "stdout",
     "output_type": "stream",
     "text": [
      "<class 'pandas.core.frame.DataFrame'>\n",
      "Int64Index: 42495 entries, 0 to 59944\n",
      "Data columns (total 11 columns):\n",
      " #   Column             Non-Null Count  Dtype  \n",
      "---  ------             --------------  -----  \n",
      " 0   age                42495 non-null  int64  \n",
      " 1   body_type          39427 non-null  object \n",
      " 2   height             42495 non-null  float64\n",
      " 3   orientation        42495 non-null  object \n",
      " 4   sex                42495 non-null  object \n",
      " 5   diet_cleaned       26067 non-null  object \n",
      " 6   education_cleaned  38688 non-null  object \n",
      " 7   religion_cleaned   30094 non-null  object \n",
      " 8   sign_cleaned       35570 non-null  object \n",
      " 9   ethnicity_cleaned  39209 non-null  object \n",
      " 10  has_vice           42495 non-null  int64  \n",
      "dtypes: float64(1), int64(2), object(8)\n",
      "memory usage: 3.9+ MB\n"
     ]
    }
   ],
   "source": [
    "df.info()"
   ]
  },
  {
   "cell_type": "code",
   "execution_count": 63,
   "metadata": {
    "ExecuteTime": {
     "end_time": "2022-07-26T14:15:33.722599Z",
     "start_time": "2022-07-26T14:15:33.660566Z"
    }
   },
   "outputs": [
    {
     "data": {
      "text/plain": [
       "(15433, 11)"
      ]
     },
     "execution_count": 63,
     "metadata": {},
     "output_type": "execute_result"
    }
   ],
   "source": [
    "# Drop all rows with null values\n",
    "df = df.dropna()\n",
    "df.shape"
   ]
  },
  {
   "cell_type": "code",
   "execution_count": 64,
   "metadata": {
    "ExecuteTime": {
     "end_time": "2022-07-26T14:15:33.754603Z",
     "start_time": "2022-07-26T14:15:33.725584Z"
    }
   },
   "outputs": [
    {
     "name": "stdout",
     "output_type": "stream",
     "text": [
      "<class 'pandas.core.frame.DataFrame'>\n",
      "Int64Index: 15433 entries, 0 to 59944\n",
      "Data columns (total 11 columns):\n",
      " #   Column             Non-Null Count  Dtype  \n",
      "---  ------             --------------  -----  \n",
      " 0   age                15433 non-null  int64  \n",
      " 1   body_type          15433 non-null  object \n",
      " 2   height             15433 non-null  float64\n",
      " 3   orientation        15433 non-null  object \n",
      " 4   sex                15433 non-null  object \n",
      " 5   diet_cleaned       15433 non-null  object \n",
      " 6   education_cleaned  15433 non-null  object \n",
      " 7   religion_cleaned   15433 non-null  object \n",
      " 8   sign_cleaned       15433 non-null  object \n",
      " 9   ethnicity_cleaned  15433 non-null  object \n",
      " 10  has_vice           15433 non-null  int64  \n",
      "dtypes: float64(1), int64(2), object(8)\n",
      "memory usage: 1.4+ MB\n"
     ]
    }
   ],
   "source": [
    "df.info()"
   ]
  },
  {
   "cell_type": "code",
   "execution_count": 65,
   "metadata": {
    "ExecuteTime": {
     "end_time": "2022-07-26T14:15:33.834620Z",
     "start_time": "2022-07-26T14:15:33.757592Z"
    }
   },
   "outputs": [],
   "source": [
    "# Perform get_dummies for categorical variables\n",
    "cols = ['body_type', 'orientation', 'sex', 'diet_cleaned', 'education_cleaned', 'religion_cleaned', \n",
    "        'sign_cleaned', 'ethnicity_cleaned']\n",
    "\n",
    "for col in cols:\n",
    "    df = pd.get_dummies(df, columns=[col], prefix = [col])"
   ]
  },
  {
   "cell_type": "code",
   "execution_count": 66,
   "metadata": {
    "ExecuteTime": {
     "end_time": "2022-07-26T14:15:33.850610Z",
     "start_time": "2022-07-26T14:15:33.836610Z"
    }
   },
   "outputs": [
    {
     "data": {
      "text/html": [
       "<div>\n",
       "<style scoped>\n",
       "    .dataframe tbody tr th:only-of-type {\n",
       "        vertical-align: middle;\n",
       "    }\n",
       "\n",
       "    .dataframe tbody tr th {\n",
       "        vertical-align: top;\n",
       "    }\n",
       "\n",
       "    .dataframe thead th {\n",
       "        text-align: right;\n",
       "    }\n",
       "</style>\n",
       "<table border=\"1\" class=\"dataframe\">\n",
       "  <thead>\n",
       "    <tr style=\"text-align: right;\">\n",
       "      <th></th>\n",
       "      <th>age</th>\n",
       "      <th>height</th>\n",
       "      <th>has_vice</th>\n",
       "      <th>body_type_a little extra</th>\n",
       "      <th>body_type_athletic</th>\n",
       "      <th>body_type_average</th>\n",
       "      <th>body_type_curvy</th>\n",
       "      <th>body_type_fit</th>\n",
       "      <th>body_type_full figured</th>\n",
       "      <th>body_type_jacked</th>\n",
       "      <th>...</th>\n",
       "      <th>sign_cleaned_virgo</th>\n",
       "      <th>ethnicity_cleaned_asian</th>\n",
       "      <th>ethnicity_cleaned_black</th>\n",
       "      <th>ethnicity_cleaned_hispanic / latin</th>\n",
       "      <th>ethnicity_cleaned_indian</th>\n",
       "      <th>ethnicity_cleaned_middle eastern</th>\n",
       "      <th>ethnicity_cleaned_native american</th>\n",
       "      <th>ethnicity_cleaned_other</th>\n",
       "      <th>ethnicity_cleaned_pacific islander</th>\n",
       "      <th>ethnicity_cleaned_white</th>\n",
       "    </tr>\n",
       "  </thead>\n",
       "  <tbody>\n",
       "    <tr>\n",
       "      <th>0</th>\n",
       "      <td>22</td>\n",
       "      <td>75.0</td>\n",
       "      <td>1</td>\n",
       "      <td>1</td>\n",
       "      <td>0</td>\n",
       "      <td>0</td>\n",
       "      <td>0</td>\n",
       "      <td>0</td>\n",
       "      <td>0</td>\n",
       "      <td>0</td>\n",
       "      <td>...</td>\n",
       "      <td>0</td>\n",
       "      <td>1</td>\n",
       "      <td>0</td>\n",
       "      <td>0</td>\n",
       "      <td>0</td>\n",
       "      <td>0</td>\n",
       "      <td>0</td>\n",
       "      <td>0</td>\n",
       "      <td>0</td>\n",
       "      <td>0</td>\n",
       "    </tr>\n",
       "    <tr>\n",
       "      <th>1</th>\n",
       "      <td>35</td>\n",
       "      <td>70.0</td>\n",
       "      <td>1</td>\n",
       "      <td>0</td>\n",
       "      <td>0</td>\n",
       "      <td>1</td>\n",
       "      <td>0</td>\n",
       "      <td>0</td>\n",
       "      <td>0</td>\n",
       "      <td>0</td>\n",
       "      <td>...</td>\n",
       "      <td>0</td>\n",
       "      <td>0</td>\n",
       "      <td>0</td>\n",
       "      <td>0</td>\n",
       "      <td>0</td>\n",
       "      <td>0</td>\n",
       "      <td>0</td>\n",
       "      <td>0</td>\n",
       "      <td>0</td>\n",
       "      <td>1</td>\n",
       "    </tr>\n",
       "    <tr>\n",
       "      <th>7</th>\n",
       "      <td>31</td>\n",
       "      <td>65.0</td>\n",
       "      <td>1</td>\n",
       "      <td>0</td>\n",
       "      <td>0</td>\n",
       "      <td>1</td>\n",
       "      <td>0</td>\n",
       "      <td>0</td>\n",
       "      <td>0</td>\n",
       "      <td>0</td>\n",
       "      <td>...</td>\n",
       "      <td>0</td>\n",
       "      <td>0</td>\n",
       "      <td>0</td>\n",
       "      <td>0</td>\n",
       "      <td>0</td>\n",
       "      <td>0</td>\n",
       "      <td>0</td>\n",
       "      <td>0</td>\n",
       "      <td>0</td>\n",
       "      <td>1</td>\n",
       "    </tr>\n",
       "    <tr>\n",
       "      <th>9</th>\n",
       "      <td>37</td>\n",
       "      <td>65.0</td>\n",
       "      <td>0</td>\n",
       "      <td>0</td>\n",
       "      <td>1</td>\n",
       "      <td>0</td>\n",
       "      <td>0</td>\n",
       "      <td>0</td>\n",
       "      <td>0</td>\n",
       "      <td>0</td>\n",
       "      <td>...</td>\n",
       "      <td>0</td>\n",
       "      <td>0</td>\n",
       "      <td>0</td>\n",
       "      <td>0</td>\n",
       "      <td>0</td>\n",
       "      <td>0</td>\n",
       "      <td>0</td>\n",
       "      <td>0</td>\n",
       "      <td>0</td>\n",
       "      <td>1</td>\n",
       "    </tr>\n",
       "    <tr>\n",
       "      <th>11</th>\n",
       "      <td>28</td>\n",
       "      <td>72.0</td>\n",
       "      <td>1</td>\n",
       "      <td>0</td>\n",
       "      <td>0</td>\n",
       "      <td>1</td>\n",
       "      <td>0</td>\n",
       "      <td>0</td>\n",
       "      <td>0</td>\n",
       "      <td>0</td>\n",
       "      <td>...</td>\n",
       "      <td>0</td>\n",
       "      <td>0</td>\n",
       "      <td>0</td>\n",
       "      <td>0</td>\n",
       "      <td>0</td>\n",
       "      <td>0</td>\n",
       "      <td>0</td>\n",
       "      <td>0</td>\n",
       "      <td>0</td>\n",
       "      <td>1</td>\n",
       "    </tr>\n",
       "  </tbody>\n",
       "</table>\n",
       "<p>5 rows × 64 columns</p>\n",
       "</div>"
      ],
      "text/plain": [
       "    age  height  has_vice  body_type_a little extra  body_type_athletic  \\\n",
       "0    22    75.0         1                         1                   0   \n",
       "1    35    70.0         1                         0                   0   \n",
       "7    31    65.0         1                         0                   0   \n",
       "9    37    65.0         0                         0                   1   \n",
       "11   28    72.0         1                         0                   0   \n",
       "\n",
       "    body_type_average  body_type_curvy  body_type_fit  body_type_full figured  \\\n",
       "0                   0                0              0                       0   \n",
       "1                   1                0              0                       0   \n",
       "7                   1                0              0                       0   \n",
       "9                   0                0              0                       0   \n",
       "11                  1                0              0                       0   \n",
       "\n",
       "    body_type_jacked  ...  sign_cleaned_virgo  ethnicity_cleaned_asian  \\\n",
       "0                  0  ...                   0                        1   \n",
       "1                  0  ...                   0                        0   \n",
       "7                  0  ...                   0                        0   \n",
       "9                  0  ...                   0                        0   \n",
       "11                 0  ...                   0                        0   \n",
       "\n",
       "    ethnicity_cleaned_black  ethnicity_cleaned_hispanic / latin  \\\n",
       "0                         0                                   0   \n",
       "1                         0                                   0   \n",
       "7                         0                                   0   \n",
       "9                         0                                   0   \n",
       "11                        0                                   0   \n",
       "\n",
       "    ethnicity_cleaned_indian  ethnicity_cleaned_middle eastern  \\\n",
       "0                          0                                 0   \n",
       "1                          0                                 0   \n",
       "7                          0                                 0   \n",
       "9                          0                                 0   \n",
       "11                         0                                 0   \n",
       "\n",
       "    ethnicity_cleaned_native american  ethnicity_cleaned_other  \\\n",
       "0                                   0                        0   \n",
       "1                                   0                        0   \n",
       "7                                   0                        0   \n",
       "9                                   0                        0   \n",
       "11                                  0                        0   \n",
       "\n",
       "    ethnicity_cleaned_pacific islander  ethnicity_cleaned_white  \n",
       "0                                    0                        0  \n",
       "1                                    0                        1  \n",
       "7                                    0                        1  \n",
       "9                                    0                        1  \n",
       "11                                   0                        1  \n",
       "\n",
       "[5 rows x 64 columns]"
      ]
     },
     "execution_count": 66,
     "metadata": {},
     "output_type": "execute_result"
    }
   ],
   "source": [
    "df.head()"
   ]
  },
  {
   "cell_type": "markdown",
   "metadata": {},
   "source": [
    "## Train/Test dataset preparation"
   ]
  },
  {
   "cell_type": "markdown",
   "metadata": {},
   "source": [
    "The dataset is highly imbalance with only 6.3% of users without vices. We will use SMOTE technique to handle the imbalance dataset."
   ]
  },
  {
   "cell_type": "code",
   "execution_count": 67,
   "metadata": {
    "ExecuteTime": {
     "end_time": "2022-07-26T14:15:34.378729Z",
     "start_time": "2022-07-26T14:15:34.367727Z"
    }
   },
   "outputs": [
    {
     "data": {
      "text/plain": [
       "1    0.937083\n",
       "0    0.062917\n",
       "Name: has_vice, dtype: float64"
      ]
     },
     "execution_count": 67,
     "metadata": {},
     "output_type": "execute_result"
    }
   ],
   "source": [
    "# Check whether the dataset target is balanced\n",
    "df['has_vice'].value_counts(normalize = True)"
   ]
  },
  {
   "cell_type": "markdown",
   "metadata": {},
   "source": [
    "### Train/Test split"
   ]
  },
  {
   "cell_type": "code",
   "execution_count": 68,
   "metadata": {
    "ExecuteTime": {
     "end_time": "2022-07-26T14:15:34.791841Z",
     "start_time": "2022-07-26T14:15:34.779822Z"
    }
   },
   "outputs": [],
   "source": [
    "# Create X and y variables\n",
    "X = df.drop(columns = ['has_vice'])\n",
    "y = df['has_vice']"
   ]
  },
  {
   "cell_type": "code",
   "execution_count": 69,
   "metadata": {
    "ExecuteTime": {
     "end_time": "2022-07-26T14:15:34.903844Z",
     "start_time": "2022-07-26T14:15:34.793822Z"
    }
   },
   "outputs": [],
   "source": [
    "# Create synthetic data for train set using SMOTE\n",
    "oversample = SMOTE()\n",
    "X, y = oversample.fit_resample(X, y)"
   ]
  },
  {
   "cell_type": "code",
   "execution_count": 70,
   "metadata": {
    "ExecuteTime": {
     "end_time": "2022-07-26T14:15:34.919847Z",
     "start_time": "2022-07-26T14:15:34.905846Z"
    }
   },
   "outputs": [
    {
     "name": "stdout",
     "output_type": "stream",
     "text": [
      "(28924, 63) (28924,)\n"
     ]
    }
   ],
   "source": [
    "# Check the shape of dataset after smoting\n",
    "print(X.shape, y.shape)"
   ]
  },
  {
   "cell_type": "code",
   "execution_count": 71,
   "metadata": {
    "ExecuteTime": {
     "end_time": "2022-07-26T14:15:34.935851Z",
     "start_time": "2022-07-26T14:15:34.921848Z"
    }
   },
   "outputs": [
    {
     "name": "stdout",
     "output_type": "stream",
     "text": [
      "1    14462\n",
      "0    14462\n",
      "Name: has_vice, dtype: int64\n"
     ]
    }
   ],
   "source": [
    "# Confirm if the dataset has been balanced\n",
    "print(pd.Series(y).value_counts())"
   ]
  },
  {
   "cell_type": "code",
   "execution_count": 72,
   "metadata": {
    "ExecuteTime": {
     "end_time": "2022-07-26T14:15:34.967860Z",
     "start_time": "2022-07-26T14:15:34.936851Z"
    }
   },
   "outputs": [
    {
     "name": "stdout",
     "output_type": "stream",
     "text": [
      "(21693, 63) (7231, 63) (21693,) (7231,)\n"
     ]
    }
   ],
   "source": [
    "# Split the dataset by 0.75 and 0.25\n",
    "X_train, X_test, y_train, y_test = train_test_split(X, y, stratify = y, random_state = 123)\n",
    "\n",
    "# Check the shape of both train and val datasets\n",
    "print(X_train.shape, X_test.shape, y_train.shape, y_test.shape)"
   ]
  },
  {
   "cell_type": "markdown",
   "metadata": {},
   "source": [
    "### Standard Scaling"
   ]
  },
  {
   "cell_type": "code",
   "execution_count": 73,
   "metadata": {
    "ExecuteTime": {
     "end_time": "2022-07-26T14:15:35.319940Z",
     "start_time": "2022-07-26T14:15:35.272929Z"
    }
   },
   "outputs": [],
   "source": [
    "# Scale the data\n",
    "ss = StandardScaler()\n",
    "\n",
    "# Fit and transform the data\n",
    "Xs_train = ss.fit_transform(X_train)\n",
    "Xs_test = ss.transform(X_test)"
   ]
  },
  {
   "cell_type": "markdown",
   "metadata": {},
   "source": [
    "## Logistics Regression"
   ]
  },
  {
   "cell_type": "markdown",
   "metadata": {},
   "source": [
    "The first model adopted is Logistics Regression and it achieved a ROC AUC train score of 0.9654. This result is pretty good. When applied to the test dataset, it achieved a ROC AUC test score of 0.9661. The top 10 predicators are obtained through the lr coefficients."
   ]
  },
  {
   "cell_type": "code",
   "execution_count": 74,
   "metadata": {
    "ExecuteTime": {
     "end_time": "2022-07-26T14:15:36.545222Z",
     "start_time": "2022-07-26T14:15:36.136123Z"
    }
   },
   "outputs": [],
   "source": [
    "# Instantiate, fit and predit using Logistic Regression model\n",
    "lr = LogisticRegression()\n",
    "lr.fit(Xs_train, y_train)\n",
    "lr_preds = lr.predict(Xs_test)"
   ]
  },
  {
   "cell_type": "code",
   "execution_count": 75,
   "metadata": {
    "ExecuteTime": {
     "end_time": "2022-07-26T14:15:36.561201Z",
     "start_time": "2022-07-26T14:15:36.547215Z"
    }
   },
   "outputs": [],
   "source": [
    "# Create a function to print data on the metrics\n",
    "def metrics(y_test, y_predict):\n",
    "    print('Accuracy score:', round(accuracy_score(y_test, y_predict), 4), '\\n')\n",
    "    print('ROC AUC score:', round(roc_auc_score(y_test, y_predict), 4), '\\n')\n",
    "    print('-----------------------------------------------------------------')\n",
    "    print(classification_report(y_test, y_predict))\n",
    "    print('-----------------------------------------------------------------')"
   ]
  },
  {
   "cell_type": "code",
   "execution_count": 76,
   "metadata": {
    "ExecuteTime": {
     "end_time": "2022-07-26T14:15:36.609220Z",
     "start_time": "2022-07-26T14:15:36.564190Z"
    }
   },
   "outputs": [
    {
     "name": "stdout",
     "output_type": "stream",
     "text": [
      "Accuracy score: 0.9654 \n",
      "\n",
      "ROC AUC score: 0.9654 \n",
      "\n",
      "-----------------------------------------------------------------\n",
      "              precision    recall  f1-score   support\n",
      "\n",
      "           0       1.00      0.93      0.96     10846\n",
      "           1       0.94      1.00      0.97     10847\n",
      "\n",
      "    accuracy                           0.97     21693\n",
      "   macro avg       0.97      0.97      0.97     21693\n",
      "weighted avg       0.97      0.97      0.97     21693\n",
      "\n",
      "-----------------------------------------------------------------\n"
     ]
    }
   ],
   "source": [
    "metrics(y_train, lr.predict(Xs_train))"
   ]
  },
  {
   "cell_type": "code",
   "execution_count": 77,
   "metadata": {
    "ExecuteTime": {
     "end_time": "2022-07-26T14:15:36.641205Z",
     "start_time": "2022-07-26T14:15:36.612207Z"
    }
   },
   "outputs": [
    {
     "name": "stdout",
     "output_type": "stream",
     "text": [
      "Accuracy score: 0.9661 \n",
      "\n",
      "ROC AUC score: 0.9661 \n",
      "\n",
      "-----------------------------------------------------------------\n",
      "              precision    recall  f1-score   support\n",
      "\n",
      "           0       1.00      0.93      0.96      3616\n",
      "           1       0.94      1.00      0.97      3615\n",
      "\n",
      "    accuracy                           0.97      7231\n",
      "   macro avg       0.97      0.97      0.97      7231\n",
      "weighted avg       0.97      0.97      0.97      7231\n",
      "\n",
      "-----------------------------------------------------------------\n"
     ]
    }
   ],
   "source": [
    "metrics(y_test, lr_preds)"
   ]
  },
  {
   "cell_type": "code",
   "execution_count": 78,
   "metadata": {
    "ExecuteTime": {
     "end_time": "2022-07-26T14:15:36.801264Z",
     "start_time": "2022-07-26T14:15:36.643207Z"
    }
   },
   "outputs": [
    {
     "data": {
      "text/plain": [
       "Text(0.5, 1.0, 'Top 10 Predictors')"
      ]
     },
     "execution_count": 78,
     "metadata": {},
     "output_type": "execute_result"
    },
    {
     "data": {
      "image/png": "[encoded data removed]",
      "text/plain": [
       "<Figure size 720x360 with 1 Axes>"
      ]
     },
     "metadata": {
      "needs_background": "light"
     },
     "output_type": "display_data"
    }
   ],
   "source": [
    "# Extract the feature importance from lr model\n",
    "importances = lr.coef_[0]\n",
    "feature_list = list(X.columns)\n",
    "feature_importance = sorted(zip(importances, feature_list), reverse = True)\n",
    "\n",
    "# Convert to dataframe and return the result. Subset to top 10 features for plotting\n",
    "df_feature = pd.DataFrame(feature_importance, columns = ['Coefficient', 'Feature'])\n",
    "df_feature_top10 = df_feature.head(10)\n",
    "\n",
    "# Plot the feature importance\n",
    "plt.figure(figsize = (10, 5))\n",
    "sns.barplot(data = df_feature_top10, y = 'Feature', x = 'Coefficient', orient = 'h', palette = 'coolwarm')\n",
    "plt.xlabel('Coefficient Values')\n",
    "plt.ylabel('Feature')\n",
    "plt.title('Top 10 Predictors', fontsize = 16, fontweight = 'bold')"
   ]
  },
  {
   "cell_type": "markdown",
   "metadata": {},
   "source": [
    "## Random Foreset"
   ]
  },
  {
   "cell_type": "markdown",
   "metadata": {},
   "source": [
    "The second model adopted is Random Forest and it achieved a ROC AUC train score of 0.9997. This result is better than the Logistics Regression. When applied to the test dataset, it achieved a ROC AUC test score of 0.9653. The top 10 predicators are obtained through the feature importance."
   ]
  },
  {
   "cell_type": "code",
   "execution_count": 79,
   "metadata": {
    "ExecuteTime": {
     "end_time": "2022-07-26T14:15:39.567343Z",
     "start_time": "2022-07-26T14:15:37.073317Z"
    }
   },
   "outputs": [],
   "source": [
    "# Instantiate, fit and predit using Random Forest\n",
    "rf = RandomForestClassifier()\n",
    "rf.fit(Xs_train, y_train)\n",
    "rf_preds = rf.predict(Xs_test)"
   ]
  },
  {
   "cell_type": "code",
   "execution_count": 80,
   "metadata": {
    "ExecuteTime": {
     "end_time": "2022-07-26T14:15:40.123468Z",
     "start_time": "2022-07-26T14:15:39.569347Z"
    }
   },
   "outputs": [
    {
     "name": "stdout",
     "output_type": "stream",
     "text": [
      "Accuracy score: 0.9997 \n",
      "\n",
      "ROC AUC score: 0.9997 \n",
      "\n",
      "-----------------------------------------------------------------\n",
      "              precision    recall  f1-score   support\n",
      "\n",
      "           0       1.00      1.00      1.00     10846\n",
      "           1       1.00      1.00      1.00     10847\n",
      "\n",
      "    accuracy                           1.00     21693\n",
      "   macro avg       1.00      1.00      1.00     21693\n",
      "weighted avg       1.00      1.00      1.00     21693\n",
      "\n",
      "-----------------------------------------------------------------\n"
     ]
    }
   ],
   "source": [
    "metrics(y_train, rf.predict(Xs_train))"
   ]
  },
  {
   "cell_type": "code",
   "execution_count": 81,
   "metadata": {
    "ExecuteTime": {
     "end_time": "2022-07-26T14:15:40.154984Z",
     "start_time": "2022-07-26T14:15:40.125469Z"
    }
   },
   "outputs": [
    {
     "name": "stdout",
     "output_type": "stream",
     "text": [
      "Accuracy score: 0.9653 \n",
      "\n",
      "ROC AUC score: 0.9653 \n",
      "\n",
      "-----------------------------------------------------------------\n",
      "              precision    recall  f1-score   support\n",
      "\n",
      "           0       0.99      0.94      0.96      3616\n",
      "           1       0.94      0.99      0.97      3615\n",
      "\n",
      "    accuracy                           0.97      7231\n",
      "   macro avg       0.97      0.97      0.97      7231\n",
      "weighted avg       0.97      0.97      0.97      7231\n",
      "\n",
      "-----------------------------------------------------------------\n"
     ]
    }
   ],
   "source": [
    "metrics(y_test, rf_preds)"
   ]
  },
  {
   "cell_type": "code",
   "execution_count": 82,
   "metadata": {
    "ExecuteTime": {
     "end_time": "2022-07-26T14:15:40.315021Z",
     "start_time": "2022-07-26T14:15:40.158988Z"
    }
   },
   "outputs": [
    {
     "data": {
      "text/plain": [
       "Text(0.5, 1.0, 'Top 10 Predictors')"
      ]
     },
     "execution_count": 82,
     "metadata": {},
     "output_type": "execute_result"
    },
    {
     "data": {
      "image/png": "[encoded data removed]",
      "text/plain": [
       "<Figure size 720x360 with 1 Axes>"
      ]
     },
     "metadata": {
      "needs_background": "light"
     },
     "output_type": "display_data"
    }
   ],
   "source": [
    "# Extract the feature importance from rf model\n",
    "importances = rf.feature_importances_\n",
    "feature_list = list(X.columns)\n",
    "feature_importance = sorted(zip(importances, feature_list), reverse = True)\n",
    "\n",
    "# Convert to dataframe and return the result. Subset to top 10 features for plotting\n",
    "df_feature = pd.DataFrame(feature_importance, columns = ['Coefficient', 'Feature'])\n",
    "df_feature_top10 = df_feature.head(10)\n",
    "\n",
    "# Plot the feature importance\n",
    "plt.figure(figsize = (10, 5))\n",
    "sns.barplot(data = df_feature_top10, y = 'Feature', x = 'Coefficient', orient = 'h', palette = 'coolwarm')\n",
    "plt.xlabel('Coefficient Values')\n",
    "plt.ylabel('Feature')\n",
    "plt.title('Top 10 Predictors', fontsize = 16, fontweight = 'bold')"
   ]
  },
  {
   "cell_type": "markdown",
   "metadata": {},
   "source": [
    "## Conclusion and Future Action"
   ]
  },
  {
   "cell_type": "markdown",
   "metadata": {},
   "source": [
    "- In this project, we have successfully build a model with a ROC AUC score > 0.90 to predict whether an OKCupid user drinks, smokes or uses drugs.\n",
    "- Moving forward, we may want to consider analysing the essay texts using Natural Language Processing."
   ]
  }
 ],
 "metadata": {
  "kernelspec": {
   "display_name": "Python 3 (ipykernel)",
   "language": "python",
   "name": "python3"
  },
  "language_info": {
   "codemirror_mode": {
    "name": "ipython",
    "version": 3
   },
   "file_extension": ".py",
   "mimetype": "text/x-python",
   "name": "python",
   "nbconvert_exporter": "python",
   "pygments_lexer": "ipython3",
   "version": "3.9.12"
  },
  "latex_envs": {
   "LaTeX_envs_menu_present": true,
   "autoclose": false,
   "autocomplete": true,
   "bibliofile": "biblio.bib",
   "cite_by": "apalike",
   "current_citInitial": 1,
   "eqLabelWithNumbers": true,
   "eqNumInitial": 1,
   "hotkeys": {
    "equation": "Ctrl-E",
    "itemize": "Ctrl-I"
   },
   "labels_anchors": false,
   "latex_user_defs": false,
   "report_style_numbering": false,
   "user_envs_cfg": false
  },
  "toc": {
   "base_numbering": 1,
   "nav_menu": {},
   "number_sections": true,
   "sideBar": true,
   "skip_h1_title": true,
   "title_cell": "Table of Contents",
   "title_sidebar": "Contents",
   "toc_cell": false,
   "toc_position": {
    "height": "calc(100% - 180px)",
    "left": "10px",
    "top": "150px",
    "width": "284.433px"
   },
   "toc_section_display": true,
   "toc_window_display": true
  }
 },
 "nbformat": 4,
 "nbformat_minor": 4
}
